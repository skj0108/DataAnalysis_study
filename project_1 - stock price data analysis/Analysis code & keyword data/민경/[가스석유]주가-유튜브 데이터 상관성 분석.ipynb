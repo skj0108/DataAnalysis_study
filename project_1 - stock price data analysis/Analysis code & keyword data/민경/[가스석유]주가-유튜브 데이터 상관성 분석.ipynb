{
 "cells": [
  {
   "cell_type": "code",
   "execution_count": 1,
   "metadata": {},
   "outputs": [],
   "source": [
    "import pandas as pd\n",
    "import numpy as np\n",
    "import matplotlib.pyplot as plt\n",
    "import seaborn as sns\n",
    "import FinanceDataReader as fdr\n",
    "import datetime as dt\n",
    "from tqdm import tqdm_notebook"
   ]
  },
  {
   "cell_type": "code",
   "execution_count": 2,
   "metadata": {},
   "outputs": [],
   "source": [
    "# 마이너스 깨짐 설정\n",
    "import matplotlib\n",
    "matplotlib.rcParams['axes.unicode_minus'] = False\n",
    "\n",
    "# 지수 표현 설정\n",
    "pd.options.display.float_format = '{:.5f}'.format"
   ]
  },
  {
   "cell_type": "markdown",
   "metadata": {},
   "source": [
    "### 데이터 불러오기"
   ]
  },
  {
   "cell_type": "code",
   "execution_count": 57,
   "metadata": {
    "scrolled": true
   },
   "outputs": [
    {
     "data": {
      "text/html": [
       "<div>\n",
       "<style scoped>\n",
       "    .dataframe tbody tr th:only-of-type {\n",
       "        vertical-align: middle;\n",
       "    }\n",
       "\n",
       "    .dataframe tbody tr th {\n",
       "        vertical-align: top;\n",
       "    }\n",
       "\n",
       "    .dataframe thead th {\n",
       "        text-align: right;\n",
       "    }\n",
       "</style>\n",
       "<table border=\"1\" class=\"dataframe\">\n",
       "  <thead>\n",
       "    <tr style=\"text-align: right;\">\n",
       "      <th></th>\n",
       "      <th>viewCount</th>\n",
       "      <th>likeCount</th>\n",
       "      <th>favoriteCount</th>\n",
       "      <th>commentCount</th>\n",
       "      <th>key</th>\n",
       "      <th>title</th>\n",
       "      <th>channel</th>\n",
       "      <th>url</th>\n",
       "      <th>date</th>\n",
       "    </tr>\n",
       "  </thead>\n",
       "  <tbody>\n",
       "    <tr>\n",
       "      <th>0</th>\n",
       "      <td>1773801</td>\n",
       "      <td>11583.00000</td>\n",
       "      <td>0</td>\n",
       "      <td>3050.00000</td>\n",
       "      <td>국제유가</td>\n",
       "      <td>밤사이 국제유가 &amp;#39;폭락&amp;#39;‥WTI 100달러 붕괴 (2022.07.06...</td>\n",
       "      <td>MBCNEWS</td>\n",
       "      <td>https://www.youtube.com/watch?v=vnl2xFjWUz8</td>\n",
       "      <td>2022-07-06</td>\n",
       "    </tr>\n",
       "    <tr>\n",
       "      <th>1</th>\n",
       "      <td>786038</td>\n",
       "      <td>4538.00000</td>\n",
       "      <td>0</td>\n",
       "      <td>386.00000</td>\n",
       "      <td>국제유가</td>\n",
       "      <td>국제유가를 흔들 수 있는 원유매장량이 많은 나라들</td>\n",
       "      <td>보통남자</td>\n",
       "      <td>https://www.youtube.com/watch?v=_LD-qsg_R9I</td>\n",
       "      <td>2021-06-11</td>\n",
       "    </tr>\n",
       "    <tr>\n",
       "      <th>2</th>\n",
       "      <td>530700</td>\n",
       "      <td>2981.00000</td>\n",
       "      <td>0</td>\n",
       "      <td>3329.00000</td>\n",
       "      <td>국제유가</td>\n",
       "      <td>국제유가 떨어질 때도…기름값은 40일째 &amp;#39;요지부동&amp;#39; / JTBC 뉴스룸</td>\n",
       "      <td>JTBC News</td>\n",
       "      <td>https://www.youtube.com/watch?v=GcHEOZiW-sA</td>\n",
       "      <td>2022-06-14</td>\n",
       "    </tr>\n",
       "  </tbody>\n",
       "</table>\n",
       "</div>"
      ],
      "text/plain": [
       "   viewCount   likeCount  favoriteCount  commentCount   key  \\\n",
       "0    1773801 11583.00000              0    3050.00000  국제유가   \n",
       "1     786038  4538.00000              0     386.00000  국제유가   \n",
       "2     530700  2981.00000              0    3329.00000  국제유가   \n",
       "\n",
       "                                               title    channel  \\\n",
       "0  밤사이 국제유가 &#39;폭락&#39;‥WTI 100달러 붕괴 (2022.07.06...    MBCNEWS   \n",
       "1                        국제유가를 흔들 수 있는 원유매장량이 많은 나라들       보통남자   \n",
       "2    국제유가 떨어질 때도…기름값은 40일째 &#39;요지부동&#39; / JTBC 뉴스룸  JTBC News   \n",
       "\n",
       "                                           url        date  \n",
       "0  https://www.youtube.com/watch?v=vnl2xFjWUz8  2022-07-06  \n",
       "1  https://www.youtube.com/watch?v=_LD-qsg_R9I  2021-06-11  \n",
       "2  https://www.youtube.com/watch?v=GcHEOZiW-sA  2022-06-14  "
      ]
     },
     "execution_count": 57,
     "metadata": {},
     "output_type": "execute_result"
    }
   ],
   "source": [
    "youtube = pd.read_csv('국제유가_조회수순.csv')\n",
    "youtube.head(3)"
   ]
  },
  {
   "cell_type": "code",
   "execution_count": 5,
   "metadata": {},
   "outputs": [],
   "source": [
    "stock_list = pd.DataFrame({'name': ['SK','S-Oil','HD현대','GS','LX인터내셔널'], 'Ticker' :['096770','010950','267250','078930','001120']})"
   ]
  },
  {
   "cell_type": "code",
   "execution_count": 6,
   "metadata": {},
   "outputs": [],
   "source": [
    "stock_change = pd.DataFrame()\n",
    "stock_close = pd.DataFrame()\n",
    "stock_volume = pd.DataFrame()\n",
    "for i in range(stock_list.shape[0]):\n",
    "    stock = fdr.DataReader(stock_list.Ticker[i], start='2020-01-01', end='2022-12-31')[['Close','Change','Volume']].reset_index()\n",
    "    stock_close[stock_list.name[i]] = stock['Close']\n",
    "    stock_change[stock_list.name[i]] = stock['Change']\n",
    "    stock_volume[stock_list.name[i]] = stock['Volume']\n",
    "stock_close.set_index(stock['Date'], inplace=True)\n",
    "stock_change.set_index(stock['Date'], inplace=True)\n",
    "stock_volume.set_index(stock['Date'], inplace=True)"
   ]
  },
  {
   "cell_type": "code",
   "execution_count": 7,
   "metadata": {
    "scrolled": false
   },
   "outputs": [
    {
     "data": {
      "text/html": [
       "<div>\n",
       "<style scoped>\n",
       "    .dataframe tbody tr th:only-of-type {\n",
       "        vertical-align: middle;\n",
       "    }\n",
       "\n",
       "    .dataframe tbody tr th {\n",
       "        vertical-align: top;\n",
       "    }\n",
       "\n",
       "    .dataframe thead th {\n",
       "        text-align: right;\n",
       "    }\n",
       "</style>\n",
       "<table border=\"1\" class=\"dataframe\">\n",
       "  <thead>\n",
       "    <tr style=\"text-align: right;\">\n",
       "      <th></th>\n",
       "      <th>SK</th>\n",
       "      <th>S-Oil</th>\n",
       "      <th>HD현대</th>\n",
       "      <th>GS</th>\n",
       "      <th>LX인터내셔널</th>\n",
       "    </tr>\n",
       "    <tr>\n",
       "      <th>Date</th>\n",
       "      <th></th>\n",
       "      <th></th>\n",
       "      <th></th>\n",
       "      <th></th>\n",
       "      <th></th>\n",
       "    </tr>\n",
       "  </thead>\n",
       "  <tbody>\n",
       "    <tr>\n",
       "      <th>2020-01-02</th>\n",
       "      <td>146500</td>\n",
       "      <td>91900</td>\n",
       "      <td>66000</td>\n",
       "      <td>50000</td>\n",
       "      <td>15000</td>\n",
       "    </tr>\n",
       "    <tr>\n",
       "      <th>2020-01-03</th>\n",
       "      <td>149500</td>\n",
       "      <td>93500</td>\n",
       "      <td>66200</td>\n",
       "      <td>50300</td>\n",
       "      <td>15050</td>\n",
       "    </tr>\n",
       "    <tr>\n",
       "      <th>2020-01-06</th>\n",
       "      <td>148000</td>\n",
       "      <td>93400</td>\n",
       "      <td>64700</td>\n",
       "      <td>50100</td>\n",
       "      <td>14600</td>\n",
       "    </tr>\n",
       "  </tbody>\n",
       "</table>\n",
       "</div>"
      ],
      "text/plain": [
       "                SK  S-Oil   HD현대     GS  LX인터내셔널\n",
       "Date                                            \n",
       "2020-01-02  146500  91900  66000  50000    15000\n",
       "2020-01-03  149500  93500  66200  50300    15050\n",
       "2020-01-06  148000  93400  64700  50100    14600"
      ]
     },
     "execution_count": 7,
     "metadata": {},
     "output_type": "execute_result"
    }
   ],
   "source": [
    "stock_close.head(3)"
   ]
  },
  {
   "cell_type": "code",
   "execution_count": 8,
   "metadata": {
    "scrolled": false
   },
   "outputs": [
    {
     "data": {
      "text/html": [
       "<div>\n",
       "<style scoped>\n",
       "    .dataframe tbody tr th:only-of-type {\n",
       "        vertical-align: middle;\n",
       "    }\n",
       "\n",
       "    .dataframe tbody tr th {\n",
       "        vertical-align: top;\n",
       "    }\n",
       "\n",
       "    .dataframe thead th {\n",
       "        text-align: right;\n",
       "    }\n",
       "</style>\n",
       "<table border=\"1\" class=\"dataframe\">\n",
       "  <thead>\n",
       "    <tr style=\"text-align: right;\">\n",
       "      <th></th>\n",
       "      <th>SK</th>\n",
       "      <th>S-Oil</th>\n",
       "      <th>HD현대</th>\n",
       "      <th>GS</th>\n",
       "      <th>LX인터내셔널</th>\n",
       "    </tr>\n",
       "    <tr>\n",
       "      <th>Date</th>\n",
       "      <th></th>\n",
       "      <th></th>\n",
       "      <th></th>\n",
       "      <th></th>\n",
       "      <th></th>\n",
       "    </tr>\n",
       "  </thead>\n",
       "  <tbody>\n",
       "    <tr>\n",
       "      <th>2020-01-02</th>\n",
       "      <td>-0.02333</td>\n",
       "      <td>-0.03568</td>\n",
       "      <td>-0.02367</td>\n",
       "      <td>-0.03101</td>\n",
       "      <td>-0.00332</td>\n",
       "    </tr>\n",
       "    <tr>\n",
       "      <th>2020-01-03</th>\n",
       "      <td>0.02048</td>\n",
       "      <td>0.01741</td>\n",
       "      <td>0.00303</td>\n",
       "      <td>0.00600</td>\n",
       "      <td>0.00333</td>\n",
       "    </tr>\n",
       "    <tr>\n",
       "      <th>2020-01-06</th>\n",
       "      <td>-0.01003</td>\n",
       "      <td>-0.00107</td>\n",
       "      <td>-0.02266</td>\n",
       "      <td>-0.00398</td>\n",
       "      <td>-0.02990</td>\n",
       "    </tr>\n",
       "  </tbody>\n",
       "</table>\n",
       "</div>"
      ],
      "text/plain": [
       "                 SK    S-Oil     HD현대       GS  LX인터내셔널\n",
       "Date                                                   \n",
       "2020-01-02 -0.02333 -0.03568 -0.02367 -0.03101 -0.00332\n",
       "2020-01-03  0.02048  0.01741  0.00303  0.00600  0.00333\n",
       "2020-01-06 -0.01003 -0.00107 -0.02266 -0.00398 -0.02990"
      ]
     },
     "execution_count": 8,
     "metadata": {},
     "output_type": "execute_result"
    }
   ],
   "source": [
    "stock_change.head(3)"
   ]
  },
  {
   "cell_type": "code",
   "execution_count": 9,
   "metadata": {},
   "outputs": [
    {
     "data": {
      "text/html": [
       "<div>\n",
       "<style scoped>\n",
       "    .dataframe tbody tr th:only-of-type {\n",
       "        vertical-align: middle;\n",
       "    }\n",
       "\n",
       "    .dataframe tbody tr th {\n",
       "        vertical-align: top;\n",
       "    }\n",
       "\n",
       "    .dataframe thead th {\n",
       "        text-align: right;\n",
       "    }\n",
       "</style>\n",
       "<table border=\"1\" class=\"dataframe\">\n",
       "  <thead>\n",
       "    <tr style=\"text-align: right;\">\n",
       "      <th></th>\n",
       "      <th>SK</th>\n",
       "      <th>S-Oil</th>\n",
       "      <th>HD현대</th>\n",
       "      <th>GS</th>\n",
       "      <th>LX인터내셔널</th>\n",
       "    </tr>\n",
       "    <tr>\n",
       "      <th>Date</th>\n",
       "      <th></th>\n",
       "      <th></th>\n",
       "      <th></th>\n",
       "      <th></th>\n",
       "      <th></th>\n",
       "    </tr>\n",
       "  </thead>\n",
       "  <tbody>\n",
       "    <tr>\n",
       "      <th>2020-01-02</th>\n",
       "      <td>217016</td>\n",
       "      <td>250460</td>\n",
       "      <td>57660</td>\n",
       "      <td>143431</td>\n",
       "      <td>155495</td>\n",
       "    </tr>\n",
       "    <tr>\n",
       "      <th>2020-01-03</th>\n",
       "      <td>274987</td>\n",
       "      <td>307012</td>\n",
       "      <td>29675</td>\n",
       "      <td>126085</td>\n",
       "      <td>158707</td>\n",
       "    </tr>\n",
       "    <tr>\n",
       "      <th>2020-01-06</th>\n",
       "      <td>317436</td>\n",
       "      <td>385159</td>\n",
       "      <td>33387</td>\n",
       "      <td>154646</td>\n",
       "      <td>158442</td>\n",
       "    </tr>\n",
       "  </tbody>\n",
       "</table>\n",
       "</div>"
      ],
      "text/plain": [
       "                SK   S-Oil   HD현대      GS  LX인터내셔널\n",
       "Date                                              \n",
       "2020-01-02  217016  250460  57660  143431   155495\n",
       "2020-01-03  274987  307012  29675  126085   158707\n",
       "2020-01-06  317436  385159  33387  154646   158442"
      ]
     },
     "execution_count": 9,
     "metadata": {},
     "output_type": "execute_result"
    }
   ],
   "source": [
    "stock_volume.head(3)"
   ]
  },
  {
   "cell_type": "markdown",
   "metadata": {},
   "source": [
    "### 데이터 확인"
   ]
  },
  {
   "cell_type": "code",
   "execution_count": 10,
   "metadata": {},
   "outputs": [
    {
     "name": "stdout",
     "output_type": "stream",
     "text": [
      "<class 'pandas.core.frame.DataFrame'>\n",
      "RangeIndex: 536 entries, 0 to 535\n",
      "Data columns (total 9 columns):\n",
      " #   Column         Non-Null Count  Dtype  \n",
      "---  ------         --------------  -----  \n",
      " 0   viewCount      536 non-null    int64  \n",
      " 1   likeCount      532 non-null    float64\n",
      " 2   favoriteCount  536 non-null    int64  \n",
      " 3   commentCount   526 non-null    float64\n",
      " 4   key            536 non-null    object \n",
      " 5   title          536 non-null    object \n",
      " 6   channel        536 non-null    object \n",
      " 7   url            536 non-null    object \n",
      " 8   date           536 non-null    object \n",
      "dtypes: float64(2), int64(2), object(5)\n",
      "memory usage: 37.8+ KB\n"
     ]
    }
   ],
   "source": [
    "youtube.info()\n",
    "# likeCount, commentCount - 결측치 존재"
   ]
  },
  {
   "cell_type": "code",
   "execution_count": 11,
   "metadata": {},
   "outputs": [
    {
     "name": "stdout",
     "output_type": "stream",
     "text": [
      "<class 'pandas.core.frame.DataFrame'>\n",
      "DatetimeIndex: 742 entries, 2020-01-02 to 2022-12-29\n",
      "Data columns (total 5 columns):\n",
      " #   Column   Non-Null Count  Dtype\n",
      "---  ------   --------------  -----\n",
      " 0   SK       742 non-null    int64\n",
      " 1   S-Oil    742 non-null    int64\n",
      " 2   HD현대     742 non-null    int64\n",
      " 3   GS       742 non-null    int64\n",
      " 4   LX인터내셔널  742 non-null    int64\n",
      "dtypes: int64(5)\n",
      "memory usage: 34.8 KB\n"
     ]
    }
   ],
   "source": [
    "stock_close.info() # 결측치 없음"
   ]
  },
  {
   "cell_type": "code",
   "execution_count": 12,
   "metadata": {
    "scrolled": true
   },
   "outputs": [
    {
     "name": "stdout",
     "output_type": "stream",
     "text": [
      "<class 'pandas.core.frame.DataFrame'>\n",
      "DatetimeIndex: 742 entries, 2020-01-02 to 2022-12-29\n",
      "Data columns (total 5 columns):\n",
      " #   Column   Non-Null Count  Dtype  \n",
      "---  ------   --------------  -----  \n",
      " 0   SK       742 non-null    float64\n",
      " 1   S-Oil    742 non-null    float64\n",
      " 2   HD현대     742 non-null    float64\n",
      " 3   GS       742 non-null    float64\n",
      " 4   LX인터내셔널  742 non-null    float64\n",
      "dtypes: float64(5)\n",
      "memory usage: 34.8 KB\n"
     ]
    }
   ],
   "source": [
    "stock_change.info() # 결측치 없음"
   ]
  },
  {
   "cell_type": "code",
   "execution_count": 13,
   "metadata": {},
   "outputs": [
    {
     "name": "stdout",
     "output_type": "stream",
     "text": [
      "<class 'pandas.core.frame.DataFrame'>\n",
      "DatetimeIndex: 742 entries, 2020-01-02 to 2022-12-29\n",
      "Data columns (total 5 columns):\n",
      " #   Column   Non-Null Count  Dtype\n",
      "---  ------   --------------  -----\n",
      " 0   SK       742 non-null    int64\n",
      " 1   S-Oil    742 non-null    int64\n",
      " 2   HD현대     742 non-null    int64\n",
      " 3   GS       742 non-null    int64\n",
      " 4   LX인터내셔널  742 non-null    int64\n",
      "dtypes: int64(5)\n",
      "memory usage: 34.8 KB\n"
     ]
    }
   ],
   "source": [
    "stock_volume.info()"
   ]
  },
  {
   "cell_type": "markdown",
   "metadata": {},
   "source": [
    "### 결측치 처리"
   ]
  },
  {
   "cell_type": "code",
   "execution_count": 14,
   "metadata": {},
   "outputs": [
    {
     "data": {
      "text/plain": [
       "viewCount         0\n",
       "likeCount         4\n",
       "favoriteCount     0\n",
       "commentCount     10\n",
       "key               0\n",
       "title             0\n",
       "channel           0\n",
       "url               0\n",
       "date              0\n",
       "dtype: int64"
      ]
     },
     "execution_count": 14,
     "metadata": {},
     "output_type": "execute_result"
    }
   ],
   "source": [
    "youtube.isnull().sum()"
   ]
  },
  {
   "cell_type": "code",
   "execution_count": 15,
   "metadata": {
    "scrolled": true
   },
   "outputs": [
    {
     "data": {
      "text/html": [
       "<div>\n",
       "<style scoped>\n",
       "    .dataframe tbody tr th:only-of-type {\n",
       "        vertical-align: middle;\n",
       "    }\n",
       "\n",
       "    .dataframe tbody tr th {\n",
       "        vertical-align: top;\n",
       "    }\n",
       "\n",
       "    .dataframe thead th {\n",
       "        text-align: right;\n",
       "    }\n",
       "</style>\n",
       "<table border=\"1\" class=\"dataframe\">\n",
       "  <thead>\n",
       "    <tr style=\"text-align: right;\">\n",
       "      <th></th>\n",
       "      <th>viewCount</th>\n",
       "      <th>likeCount</th>\n",
       "      <th>favoriteCount</th>\n",
       "      <th>commentCount</th>\n",
       "      <th>key</th>\n",
       "      <th>title</th>\n",
       "      <th>channel</th>\n",
       "      <th>url</th>\n",
       "      <th>date</th>\n",
       "    </tr>\n",
       "  </thead>\n",
       "  <tbody>\n",
       "    <tr>\n",
       "      <th>18</th>\n",
       "      <td>42394</td>\n",
       "      <td>NaN</td>\n",
       "      <td>0</td>\n",
       "      <td>292.00000</td>\n",
       "      <td>국제유가</td>\n",
       "      <td>국제유가 마이너스 폭락  냉철의 대응전략은?</td>\n",
       "      <td>냉철tv</td>\n",
       "      <td>https://www.youtube.com/watch?v=N1KwgOIsO4U</td>\n",
       "      <td>2020-04-22</td>\n",
       "    </tr>\n",
       "    <tr>\n",
       "      <th>129</th>\n",
       "      <td>2183</td>\n",
       "      <td>NaN</td>\n",
       "      <td>0</td>\n",
       "      <td>2.00000</td>\n",
       "      <td>국제유가</td>\n",
       "      <td>기름값 한 달째 상승..국제유가 상승 원인/대전MBC</td>\n",
       "      <td>대전MBC 뉴스/Daejeon MBC News</td>\n",
       "      <td>https://www.youtube.com/watch?v=SI6A_LTuVpA</td>\n",
       "      <td>2020-12-14</td>\n",
       "    </tr>\n",
       "    <tr>\n",
       "      <th>444</th>\n",
       "      <td>397</td>\n",
       "      <td>NaN</td>\n",
       "      <td>0</td>\n",
       "      <td>2.00000</td>\n",
       "      <td>국제유가</td>\n",
       "      <td>주식언제사나요? 킹갓제너럴달러 &amp;amp; 국제유가 WTI</td>\n",
       "      <td>현달이TV</td>\n",
       "      <td>https://www.youtube.com/watch?v=M7URPZemjq8</td>\n",
       "      <td>2022-11-07</td>\n",
       "    </tr>\n",
       "    <tr>\n",
       "      <th>490</th>\n",
       "      <td>1020</td>\n",
       "      <td>NaN</td>\n",
       "      <td>0</td>\n",
       "      <td>16.00000</td>\n",
       "      <td>국제유가</td>\n",
       "      <td>[미주놀] 국제 유가 $300까지 간다는 말이 현실화되는 현실✔️푸틴의 적수가 되지...</td>\n",
       "      <td>미주놀 - 미국주식 투자의 전설이 되어가다</td>\n",
       "      <td>https://www.youtube.com/watch?v=FK8OFVo62NU</td>\n",
       "      <td>2022-07-15</td>\n",
       "    </tr>\n",
       "  </tbody>\n",
       "</table>\n",
       "</div>"
      ],
      "text/plain": [
       "     viewCount  likeCount  favoriteCount  commentCount   key  \\\n",
       "18       42394        NaN              0     292.00000  국제유가   \n",
       "129       2183        NaN              0       2.00000  국제유가   \n",
       "444        397        NaN              0       2.00000  국제유가   \n",
       "490       1020        NaN              0      16.00000  국제유가   \n",
       "\n",
       "                                                 title  \\\n",
       "18                            국제유가 마이너스 폭락  냉철의 대응전략은?   \n",
       "129                      기름값 한 달째 상승..국제유가 상승 원인/대전MBC   \n",
       "444                    주식언제사나요? 킹갓제너럴달러 &amp; 국제유가 WTI   \n",
       "490  [미주놀] 국제 유가 $300까지 간다는 말이 현실화되는 현실✔️푸틴의 적수가 되지...   \n",
       "\n",
       "                       channel                                          url  \\\n",
       "18                        냉철tv  https://www.youtube.com/watch?v=N1KwgOIsO4U   \n",
       "129  대전MBC 뉴스/Daejeon MBC News  https://www.youtube.com/watch?v=SI6A_LTuVpA   \n",
       "444                      현달이TV  https://www.youtube.com/watch?v=M7URPZemjq8   \n",
       "490    미주놀 - 미국주식 투자의 전설이 되어가다  https://www.youtube.com/watch?v=FK8OFVo62NU   \n",
       "\n",
       "           date  \n",
       "18   2020-04-22  \n",
       "129  2020-12-14  \n",
       "444  2022-11-07  \n",
       "490  2022-07-15  "
      ]
     },
     "execution_count": 15,
     "metadata": {},
     "output_type": "execute_result"
    }
   ],
   "source": [
    "youtube[youtube['likeCount'].isnull()]\n",
    "# likeCount만 사용 , favoriteCount-> 모두 0 "
   ]
  },
  {
   "cell_type": "code",
   "execution_count": 16,
   "metadata": {},
   "outputs": [
    {
     "data": {
      "text/html": [
       "<div>\n",
       "<style scoped>\n",
       "    .dataframe tbody tr th:only-of-type {\n",
       "        vertical-align: middle;\n",
       "    }\n",
       "\n",
       "    .dataframe tbody tr th {\n",
       "        vertical-align: top;\n",
       "    }\n",
       "\n",
       "    .dataframe thead th {\n",
       "        text-align: right;\n",
       "    }\n",
       "</style>\n",
       "<table border=\"1\" class=\"dataframe\">\n",
       "  <thead>\n",
       "    <tr style=\"text-align: right;\">\n",
       "      <th></th>\n",
       "      <th>viewCount</th>\n",
       "      <th>likeCount</th>\n",
       "      <th>commentCount</th>\n",
       "      <th>key</th>\n",
       "      <th>title</th>\n",
       "      <th>channel</th>\n",
       "      <th>url</th>\n",
       "      <th>date</th>\n",
       "    </tr>\n",
       "  </thead>\n",
       "  <tbody>\n",
       "    <tr>\n",
       "      <th>0</th>\n",
       "      <td>1773801</td>\n",
       "      <td>11583.00000</td>\n",
       "      <td>3050.00000</td>\n",
       "      <td>국제유가</td>\n",
       "      <td>밤사이 국제유가 &amp;#39;폭락&amp;#39;‥WTI 100달러 붕괴 (2022.07.06...</td>\n",
       "      <td>MBCNEWS</td>\n",
       "      <td>https://www.youtube.com/watch?v=vnl2xFjWUz8</td>\n",
       "      <td>2022-07-06</td>\n",
       "    </tr>\n",
       "  </tbody>\n",
       "</table>\n",
       "</div>"
      ],
      "text/plain": [
       "   viewCount   likeCount  commentCount   key  \\\n",
       "0    1773801 11583.00000    3050.00000  국제유가   \n",
       "\n",
       "                                               title  channel  \\\n",
       "0  밤사이 국제유가 &#39;폭락&#39;‥WTI 100달러 붕괴 (2022.07.06...  MBCNEWS   \n",
       "\n",
       "                                           url        date  \n",
       "0  https://www.youtube.com/watch?v=vnl2xFjWUz8  2022-07-06  "
      ]
     },
     "execution_count": 16,
     "metadata": {},
     "output_type": "execute_result"
    }
   ],
   "source": [
    "# likeCount 컬럼 drop\n",
    "youtube.drop('favoriteCount',axis=1,inplace=True)\n",
    "youtube.head(1)"
   ]
  },
  {
   "cell_type": "code",
   "execution_count": 17,
   "metadata": {
    "scrolled": true
   },
   "outputs": [
    {
     "data": {
      "text/html": [
       "<div>\n",
       "<style scoped>\n",
       "    .dataframe tbody tr th:only-of-type {\n",
       "        vertical-align: middle;\n",
       "    }\n",
       "\n",
       "    .dataframe tbody tr th {\n",
       "        vertical-align: top;\n",
       "    }\n",
       "\n",
       "    .dataframe thead th {\n",
       "        text-align: right;\n",
       "    }\n",
       "</style>\n",
       "<table border=\"1\" class=\"dataframe\">\n",
       "  <thead>\n",
       "    <tr style=\"text-align: right;\">\n",
       "      <th></th>\n",
       "      <th>viewCount</th>\n",
       "      <th>likeCount</th>\n",
       "      <th>commentCount</th>\n",
       "      <th>key</th>\n",
       "      <th>title</th>\n",
       "      <th>channel</th>\n",
       "      <th>url</th>\n",
       "      <th>date</th>\n",
       "    </tr>\n",
       "  </thead>\n",
       "  <tbody>\n",
       "    <tr>\n",
       "      <th>14</th>\n",
       "      <td>58731</td>\n",
       "      <td>2688.00000</td>\n",
       "      <td>NaN</td>\n",
       "      <td>국제유가</td>\n",
       "      <td>트럼프는 계획이 있었나? 국제유가 폭락이 유동성 폭발을 불러오나?</td>\n",
       "      <td>자유인awesome</td>\n",
       "      <td>https://www.youtube.com/watch?v=afs6iYuW8gw</td>\n",
       "      <td>2020-03-15</td>\n",
       "    </tr>\n",
       "    <tr>\n",
       "      <th>15</th>\n",
       "      <td>57633</td>\n",
       "      <td>2599.00000</td>\n",
       "      <td>NaN</td>\n",
       "      <td>국제유가</td>\n",
       "      <td>국제유가 100달러 시대 온다! 왜 부동산이 위험한가?</td>\n",
       "      <td>쇼킹부동산</td>\n",
       "      <td>https://www.youtube.com/watch?v=cuI0u1TPNo8</td>\n",
       "      <td>2022-01-27</td>\n",
       "    </tr>\n",
       "    <tr>\n",
       "      <th>25</th>\n",
       "      <td>31441</td>\n",
       "      <td>1495.00000</td>\n",
       "      <td>NaN</td>\n",
       "      <td>국제유가</td>\n",
       "      <td>국제유가 110불 시대가 왔습니다. 부동산은 어떻게 될까요?</td>\n",
       "      <td>쇼킹부동산</td>\n",
       "      <td>https://www.youtube.com/watch?v=9oocxnFta0g</td>\n",
       "      <td>2022-03-02</td>\n",
       "    </tr>\n",
       "    <tr>\n",
       "      <th>36</th>\n",
       "      <td>23864</td>\n",
       "      <td>1761.00000</td>\n",
       "      <td>NaN</td>\n",
       "      <td>국제유가</td>\n",
       "      <td>투기자본 나가는 국제유가 급락한다는 의견이 나오고있다</td>\n",
       "      <td>피셔인베스트</td>\n",
       "      <td>https://www.youtube.com/watch?v=vr19nd9RUvs</td>\n",
       "      <td>2022-06-23</td>\n",
       "    </tr>\n",
       "    <tr>\n",
       "      <th>44</th>\n",
       "      <td>21499</td>\n",
       "      <td>1465.00000</td>\n",
       "      <td>NaN</td>\n",
       "      <td>국제유가</td>\n",
       "      <td>국제유가 떨어지면 인플레이션도 끝난다 희망을 버리긴 아직...</td>\n",
       "      <td>피셔인베스트</td>\n",
       "      <td>https://www.youtube.com/watch?v=NpCESw7-iGk</td>\n",
       "      <td>2022-09-11</td>\n",
       "    </tr>\n",
       "    <tr>\n",
       "      <th>69</th>\n",
       "      <td>21499</td>\n",
       "      <td>1465.00000</td>\n",
       "      <td>NaN</td>\n",
       "      <td>국제유가</td>\n",
       "      <td>국제유가 떨어지면 인플레이션도 끝난다 희망을 버리긴 아직...</td>\n",
       "      <td>피셔인베스트</td>\n",
       "      <td>https://www.youtube.com/watch?v=NpCESw7-iGk</td>\n",
       "      <td>2022-09-11</td>\n",
       "    </tr>\n",
       "    <tr>\n",
       "      <th>237</th>\n",
       "      <td>29549</td>\n",
       "      <td>1919.00000</td>\n",
       "      <td>NaN</td>\n",
       "      <td>국제유가</td>\n",
       "      <td>OPEC+ 국제유가 담합에 미국이 정면으로 칼을 빼들었습니다( NOPEC)</td>\n",
       "      <td>피셔인베스트</td>\n",
       "      <td>https://www.youtube.com/watch?v=D6bdvgq_RTw</td>\n",
       "      <td>2022-10-06</td>\n",
       "    </tr>\n",
       "    <tr>\n",
       "      <th>359</th>\n",
       "      <td>12587</td>\n",
       "      <td>915.00000</td>\n",
       "      <td>NaN</td>\n",
       "      <td>국제유가</td>\n",
       "      <td>국제유가 와 2007년 버핏의 에너지거품투자 코노코필립스 사건</td>\n",
       "      <td>피셔인베스트</td>\n",
       "      <td>https://www.youtube.com/watch?v=no-EKkZ6NGk</td>\n",
       "      <td>2022-10-11</td>\n",
       "    </tr>\n",
       "    <tr>\n",
       "      <th>369</th>\n",
       "      <td>23864</td>\n",
       "      <td>1761.00000</td>\n",
       "      <td>NaN</td>\n",
       "      <td>국제유가</td>\n",
       "      <td>투기자본 나가는 국제유가 급락한다는 의견이 나오고있다</td>\n",
       "      <td>피셔인베스트</td>\n",
       "      <td>https://www.youtube.com/watch?v=vr19nd9RUvs</td>\n",
       "      <td>2022-06-23</td>\n",
       "    </tr>\n",
       "    <tr>\n",
       "      <th>383</th>\n",
       "      <td>21058</td>\n",
       "      <td>1434.00000</td>\n",
       "      <td>NaN</td>\n",
       "      <td>국제유가</td>\n",
       "      <td>국제유가와 구리가격은 왜 반대로 갈까? 유가에 목숨걸어야하는 현실</td>\n",
       "      <td>피셔인베스트</td>\n",
       "      <td>https://www.youtube.com/watch?v=sSynR6sWWeU</td>\n",
       "      <td>2022-06-17</td>\n",
       "    </tr>\n",
       "  </tbody>\n",
       "</table>\n",
       "</div>"
      ],
      "text/plain": [
       "     viewCount  likeCount  commentCount   key  \\\n",
       "14       58731 2688.00000           NaN  국제유가   \n",
       "15       57633 2599.00000           NaN  국제유가   \n",
       "25       31441 1495.00000           NaN  국제유가   \n",
       "36       23864 1761.00000           NaN  국제유가   \n",
       "44       21499 1465.00000           NaN  국제유가   \n",
       "69       21499 1465.00000           NaN  국제유가   \n",
       "237      29549 1919.00000           NaN  국제유가   \n",
       "359      12587  915.00000           NaN  국제유가   \n",
       "369      23864 1761.00000           NaN  국제유가   \n",
       "383      21058 1434.00000           NaN  국제유가   \n",
       "\n",
       "                                         title     channel  \\\n",
       "14        트럼프는 계획이 있었나? 국제유가 폭락이 유동성 폭발을 불러오나?  자유인awesome   \n",
       "15              국제유가 100달러 시대 온다! 왜 부동산이 위험한가?       쇼킹부동산   \n",
       "25           국제유가 110불 시대가 왔습니다. 부동산은 어떻게 될까요?       쇼킹부동산   \n",
       "36               투기자본 나가는 국제유가 급락한다는 의견이 나오고있다      피셔인베스트   \n",
       "44          국제유가 떨어지면 인플레이션도 끝난다 희망을 버리긴 아직...      피셔인베스트   \n",
       "69          국제유가 떨어지면 인플레이션도 끝난다 희망을 버리긴 아직...      피셔인베스트   \n",
       "237  OPEC+ 국제유가 담합에 미국이 정면으로 칼을 빼들었습니다( NOPEC)      피셔인베스트   \n",
       "359         국제유가 와 2007년 버핏의 에너지거품투자 코노코필립스 사건      피셔인베스트   \n",
       "369              투기자본 나가는 국제유가 급락한다는 의견이 나오고있다      피셔인베스트   \n",
       "383       국제유가와 구리가격은 왜 반대로 갈까? 유가에 목숨걸어야하는 현실      피셔인베스트   \n",
       "\n",
       "                                             url        date  \n",
       "14   https://www.youtube.com/watch?v=afs6iYuW8gw  2020-03-15  \n",
       "15   https://www.youtube.com/watch?v=cuI0u1TPNo8  2022-01-27  \n",
       "25   https://www.youtube.com/watch?v=9oocxnFta0g  2022-03-02  \n",
       "36   https://www.youtube.com/watch?v=vr19nd9RUvs  2022-06-23  \n",
       "44   https://www.youtube.com/watch?v=NpCESw7-iGk  2022-09-11  \n",
       "69   https://www.youtube.com/watch?v=NpCESw7-iGk  2022-09-11  \n",
       "237  https://www.youtube.com/watch?v=D6bdvgq_RTw  2022-10-06  \n",
       "359  https://www.youtube.com/watch?v=no-EKkZ6NGk  2022-10-11  \n",
       "369  https://www.youtube.com/watch?v=vr19nd9RUvs  2022-06-23  \n",
       "383  https://www.youtube.com/watch?v=sSynR6sWWeU  2022-06-17  "
      ]
     },
     "execution_count": 17,
     "metadata": {},
     "output_type": "execute_result"
    }
   ],
   "source": [
    "youtube[youtube['commentCount'].isnull()]\n",
    "# 대부분 댓글 사용 중지된 영상 - 0개로 처리"
   ]
  },
  {
   "cell_type": "code",
   "execution_count": 18,
   "metadata": {},
   "outputs": [
    {
     "data": {
      "text/html": [
       "<div>\n",
       "<style scoped>\n",
       "    .dataframe tbody tr th:only-of-type {\n",
       "        vertical-align: middle;\n",
       "    }\n",
       "\n",
       "    .dataframe tbody tr th {\n",
       "        vertical-align: top;\n",
       "    }\n",
       "\n",
       "    .dataframe thead th {\n",
       "        text-align: right;\n",
       "    }\n",
       "</style>\n",
       "<table border=\"1\" class=\"dataframe\">\n",
       "  <thead>\n",
       "    <tr style=\"text-align: right;\">\n",
       "      <th></th>\n",
       "      <th>viewCount</th>\n",
       "      <th>likeCount</th>\n",
       "      <th>commentCount</th>\n",
       "      <th>key</th>\n",
       "      <th>title</th>\n",
       "      <th>channel</th>\n",
       "      <th>url</th>\n",
       "      <th>date</th>\n",
       "    </tr>\n",
       "  </thead>\n",
       "  <tbody>\n",
       "  </tbody>\n",
       "</table>\n",
       "</div>"
      ],
      "text/plain": [
       "Empty DataFrame\n",
       "Columns: [viewCount, likeCount, commentCount, key, title, channel, url, date]\n",
       "Index: []"
      ]
     },
     "execution_count": 18,
     "metadata": {},
     "output_type": "execute_result"
    }
   ],
   "source": [
    "youtube = youtube.fillna(0)\n",
    "youtube[youtube['commentCount'].isnull()] # 결측치 - 0으로 대체"
   ]
  },
  {
   "cell_type": "code",
   "execution_count": 19,
   "metadata": {},
   "outputs": [],
   "source": [
    "youtube['date'] = pd.to_datetime(youtube['date'])"
   ]
  },
  {
   "cell_type": "code",
   "execution_count": 20,
   "metadata": {},
   "outputs": [],
   "source": [
    "# 일자별로 그룹화\n",
    "youtube_date = youtube.groupby(by='date').sum()\n",
    "youtube_date['num_video'] = youtube.groupby(by='date').size()\n",
    "youtube_date = youtube_date[4:]"
   ]
  },
  {
   "cell_type": "code",
   "execution_count": 21,
   "metadata": {
    "scrolled": false
   },
   "outputs": [
    {
     "data": {
      "image/png": "[encoded data removed]",
      "text/plain": [
       "<Figure size 1440x360 with 1 Axes>"
      ]
     },
     "metadata": {
      "needs_background": "light"
     },
     "output_type": "display_data"
    }
   ],
   "source": [
    "plt.figure(figsize=(20,5))\n",
    "plt.plot(youtube_date['num_video'])\n",
    "plt.show()"
   ]
  },
  {
   "cell_type": "code",
   "execution_count": 22,
   "metadata": {
    "scrolled": false
   },
   "outputs": [
    {
     "data": {
      "image/png": "[encoded data removed]",
      "text/plain": [
       "<Figure size 1440x360 with 1 Axes>"
      ]
     },
     "metadata": {
      "needs_background": "light"
     },
     "output_type": "display_data"
    }
   ],
   "source": [
    "plt.figure(figsize=(20,5))\n",
    "plt.plot(youtube_date['likeCount'])\n",
    "plt.show()"
   ]
  },
  {
   "cell_type": "markdown",
   "metadata": {},
   "source": [
    "### 유튜브 데이터 결측치 보간"
   ]
  },
  {
   "cell_type": "markdown",
   "metadata": {},
   "source": [
    "- 주가 데이터를 기준으로 유튜브 데이터가 없는 날짜는 사람들의 관심도가 영상이 올라온 이후로 점차 선형적으로 증감한다고 가정하여 선형 보간법을 활용해 결측치 보간\n",
    "  "
   ]
  },
  {
   "cell_type": "code",
   "execution_count": 23,
   "metadata": {},
   "outputs": [],
   "source": [
    "import scipy.interpolate as spi"
   ]
  },
  {
   "cell_type": "code",
   "execution_count": 24,
   "metadata": {
    "scrolled": false
   },
   "outputs": [
    {
     "data": {
      "text/plain": [
       "264"
      ]
     },
     "execution_count": 24,
     "metadata": {},
     "output_type": "execute_result"
    }
   ],
   "source": [
    "len(youtube_date) # 264일치 데이터"
   ]
  },
  {
   "cell_type": "code",
   "execution_count": 25,
   "metadata": {
    "scrolled": false
   },
   "outputs": [
    {
     "data": {
      "text/plain": [
       "742"
      ]
     },
     "execution_count": 25,
     "metadata": {},
     "output_type": "execute_result"
    }
   ],
   "source": [
    "len(stock_close) # 742일치 데이터"
   ]
  },
  {
   "cell_type": "code",
   "execution_count": 26,
   "metadata": {
    "scrolled": true
   },
   "outputs": [
    {
     "data": {
      "text/html": [
       "<div>\n",
       "<style scoped>\n",
       "    .dataframe tbody tr th:only-of-type {\n",
       "        vertical-align: middle;\n",
       "    }\n",
       "\n",
       "    .dataframe tbody tr th {\n",
       "        vertical-align: top;\n",
       "    }\n",
       "\n",
       "    .dataframe thead th {\n",
       "        text-align: right;\n",
       "    }\n",
       "</style>\n",
       "<table border=\"1\" class=\"dataframe\">\n",
       "  <thead>\n",
       "    <tr style=\"text-align: right;\">\n",
       "      <th></th>\n",
       "      <th>date</th>\n",
       "      <th>viewCount</th>\n",
       "      <th>likeCount</th>\n",
       "      <th>commentCount</th>\n",
       "      <th>num_video</th>\n",
       "    </tr>\n",
       "  </thead>\n",
       "  <tbody>\n",
       "    <tr>\n",
       "      <th>0</th>\n",
       "      <td>2020-02-08</td>\n",
       "      <td>1142</td>\n",
       "      <td>3.00000</td>\n",
       "      <td>0.00000</td>\n",
       "      <td>1</td>\n",
       "    </tr>\n",
       "    <tr>\n",
       "      <th>1</th>\n",
       "      <td>2020-03-10</td>\n",
       "      <td>412647</td>\n",
       "      <td>2835.00000</td>\n",
       "      <td>484.00000</td>\n",
       "      <td>3</td>\n",
       "    </tr>\n",
       "    <tr>\n",
       "      <th>2</th>\n",
       "      <td>2020-03-11</td>\n",
       "      <td>109</td>\n",
       "      <td>3.00000</td>\n",
       "      <td>0.00000</td>\n",
       "      <td>1</td>\n",
       "    </tr>\n",
       "    <tr>\n",
       "      <th>3</th>\n",
       "      <td>2020-03-15</td>\n",
       "      <td>58731</td>\n",
       "      <td>2688.00000</td>\n",
       "      <td>0.00000</td>\n",
       "      <td>1</td>\n",
       "    </tr>\n",
       "    <tr>\n",
       "      <th>4</th>\n",
       "      <td>2020-03-25</td>\n",
       "      <td>28211</td>\n",
       "      <td>737.00000</td>\n",
       "      <td>46.00000</td>\n",
       "      <td>1</td>\n",
       "    </tr>\n",
       "    <tr>\n",
       "      <th>...</th>\n",
       "      <td>...</td>\n",
       "      <td>...</td>\n",
       "      <td>...</td>\n",
       "      <td>...</td>\n",
       "      <td>...</td>\n",
       "    </tr>\n",
       "    <tr>\n",
       "      <th>259</th>\n",
       "      <td>2022-12-28</td>\n",
       "      <td>319</td>\n",
       "      <td>5.00000</td>\n",
       "      <td>0.00000</td>\n",
       "      <td>1</td>\n",
       "    </tr>\n",
       "    <tr>\n",
       "      <th>260</th>\n",
       "      <td>2022-12-29</td>\n",
       "      <td>324</td>\n",
       "      <td>3.00000</td>\n",
       "      <td>0.00000</td>\n",
       "      <td>1</td>\n",
       "    </tr>\n",
       "    <tr>\n",
       "      <th>261</th>\n",
       "      <td>2022-12-31</td>\n",
       "      <td>41652</td>\n",
       "      <td>152.00000</td>\n",
       "      <td>177.00000</td>\n",
       "      <td>1</td>\n",
       "    </tr>\n",
       "    <tr>\n",
       "      <th>262</th>\n",
       "      <td>2023-01-19</td>\n",
       "      <td>38434</td>\n",
       "      <td>1916.00000</td>\n",
       "      <td>44.00000</td>\n",
       "      <td>1</td>\n",
       "    </tr>\n",
       "    <tr>\n",
       "      <th>263</th>\n",
       "      <td>2023-01-22</td>\n",
       "      <td>21368</td>\n",
       "      <td>568.00000</td>\n",
       "      <td>35.00000</td>\n",
       "      <td>1</td>\n",
       "    </tr>\n",
       "  </tbody>\n",
       "</table>\n",
       "<p>264 rows × 5 columns</p>\n",
       "</div>"
      ],
      "text/plain": [
       "          date  viewCount  likeCount  commentCount  num_video\n",
       "0   2020-02-08       1142    3.00000       0.00000          1\n",
       "1   2020-03-10     412647 2835.00000     484.00000          3\n",
       "2   2020-03-11        109    3.00000       0.00000          1\n",
       "3   2020-03-15      58731 2688.00000       0.00000          1\n",
       "4   2020-03-25      28211  737.00000      46.00000          1\n",
       "..         ...        ...        ...           ...        ...\n",
       "259 2022-12-28        319    5.00000       0.00000          1\n",
       "260 2022-12-29        324    3.00000       0.00000          1\n",
       "261 2022-12-31      41652  152.00000     177.00000          1\n",
       "262 2023-01-19      38434 1916.00000      44.00000          1\n",
       "263 2023-01-22      21368  568.00000      35.00000          1\n",
       "\n",
       "[264 rows x 5 columns]"
      ]
     },
     "execution_count": 26,
     "metadata": {},
     "output_type": "execute_result"
    }
   ],
   "source": [
    "youtube_date = youtube_date.reset_index()\n",
    "youtube_date"
   ]
  },
  {
   "cell_type": "code",
   "execution_count": 27,
   "metadata": {},
   "outputs": [],
   "source": [
    "youtube_date.rename(columns={'date':'Date'}, inplace=True)"
   ]
  },
  {
   "cell_type": "code",
   "execution_count": 28,
   "metadata": {
    "scrolled": true
   },
   "outputs": [],
   "source": [
    "stock_close = stock_close.reset_index() # 데이터 병합을 위해 날짜 데이터 열로 만들기"
   ]
  },
  {
   "cell_type": "code",
   "execution_count": 30,
   "metadata": {
    "scrolled": true
   },
   "outputs": [
    {
     "data": {
      "text/html": [
       "<div>\n",
       "<style scoped>\n",
       "    .dataframe tbody tr th:only-of-type {\n",
       "        vertical-align: middle;\n",
       "    }\n",
       "\n",
       "    .dataframe tbody tr th {\n",
       "        vertical-align: top;\n",
       "    }\n",
       "\n",
       "    .dataframe thead th {\n",
       "        text-align: right;\n",
       "    }\n",
       "</style>\n",
       "<table border=\"1\" class=\"dataframe\">\n",
       "  <thead>\n",
       "    <tr style=\"text-align: right;\">\n",
       "      <th></th>\n",
       "      <th>Date</th>\n",
       "      <th>viewCount</th>\n",
       "      <th>likeCount</th>\n",
       "      <th>commentCount</th>\n",
       "      <th>num_video</th>\n",
       "    </tr>\n",
       "  </thead>\n",
       "  <tbody>\n",
       "    <tr>\n",
       "      <th>0</th>\n",
       "      <td>2020-01-02</td>\n",
       "      <td>NaN</td>\n",
       "      <td>NaN</td>\n",
       "      <td>NaN</td>\n",
       "      <td>NaN</td>\n",
       "    </tr>\n",
       "    <tr>\n",
       "      <th>1</th>\n",
       "      <td>2020-01-03</td>\n",
       "      <td>NaN</td>\n",
       "      <td>NaN</td>\n",
       "      <td>NaN</td>\n",
       "      <td>NaN</td>\n",
       "    </tr>\n",
       "    <tr>\n",
       "      <th>2</th>\n",
       "      <td>2020-01-06</td>\n",
       "      <td>NaN</td>\n",
       "      <td>NaN</td>\n",
       "      <td>NaN</td>\n",
       "      <td>NaN</td>\n",
       "    </tr>\n",
       "    <tr>\n",
       "      <th>3</th>\n",
       "      <td>2020-01-07</td>\n",
       "      <td>NaN</td>\n",
       "      <td>NaN</td>\n",
       "      <td>NaN</td>\n",
       "      <td>NaN</td>\n",
       "    </tr>\n",
       "    <tr>\n",
       "      <th>4</th>\n",
       "      <td>2020-01-08</td>\n",
       "      <td>NaN</td>\n",
       "      <td>NaN</td>\n",
       "      <td>NaN</td>\n",
       "      <td>NaN</td>\n",
       "    </tr>\n",
       "    <tr>\n",
       "      <th>...</th>\n",
       "      <td>...</td>\n",
       "      <td>...</td>\n",
       "      <td>...</td>\n",
       "      <td>...</td>\n",
       "      <td>...</td>\n",
       "    </tr>\n",
       "    <tr>\n",
       "      <th>737</th>\n",
       "      <td>2022-12-23</td>\n",
       "      <td>1226.00000</td>\n",
       "      <td>29.00000</td>\n",
       "      <td>2.00000</td>\n",
       "      <td>4.00000</td>\n",
       "    </tr>\n",
       "    <tr>\n",
       "      <th>738</th>\n",
       "      <td>2022-12-26</td>\n",
       "      <td>NaN</td>\n",
       "      <td>NaN</td>\n",
       "      <td>NaN</td>\n",
       "      <td>NaN</td>\n",
       "    </tr>\n",
       "    <tr>\n",
       "      <th>739</th>\n",
       "      <td>2022-12-27</td>\n",
       "      <td>NaN</td>\n",
       "      <td>NaN</td>\n",
       "      <td>NaN</td>\n",
       "      <td>NaN</td>\n",
       "    </tr>\n",
       "    <tr>\n",
       "      <th>740</th>\n",
       "      <td>2022-12-28</td>\n",
       "      <td>319.00000</td>\n",
       "      <td>5.00000</td>\n",
       "      <td>0.00000</td>\n",
       "      <td>1.00000</td>\n",
       "    </tr>\n",
       "    <tr>\n",
       "      <th>741</th>\n",
       "      <td>2022-12-29</td>\n",
       "      <td>324.00000</td>\n",
       "      <td>3.00000</td>\n",
       "      <td>0.00000</td>\n",
       "      <td>1.00000</td>\n",
       "    </tr>\n",
       "  </tbody>\n",
       "</table>\n",
       "<p>742 rows × 5 columns</p>\n",
       "</div>"
      ],
      "text/plain": [
       "          Date  viewCount  likeCount  commentCount  num_video\n",
       "0   2020-01-02        NaN        NaN           NaN        NaN\n",
       "1   2020-01-03        NaN        NaN           NaN        NaN\n",
       "2   2020-01-06        NaN        NaN           NaN        NaN\n",
       "3   2020-01-07        NaN        NaN           NaN        NaN\n",
       "4   2020-01-08        NaN        NaN           NaN        NaN\n",
       "..         ...        ...        ...           ...        ...\n",
       "737 2022-12-23 1226.00000   29.00000       2.00000    4.00000\n",
       "738 2022-12-26        NaN        NaN           NaN        NaN\n",
       "739 2022-12-27        NaN        NaN           NaN        NaN\n",
       "740 2022-12-28  319.00000    5.00000       0.00000    1.00000\n",
       "741 2022-12-29  324.00000    3.00000       0.00000    1.00000\n",
       "\n",
       "[742 rows x 5 columns]"
      ]
     },
     "execution_count": 30,
     "metadata": {},
     "output_type": "execute_result"
    }
   ],
   "source": [
    "youtube_null = pd.merge(left=stock_close, right=youtube_date, how='left')[['Date','viewCount','likeCount','commentCount','num_video']]\n",
    "youtube_null"
   ]
  },
  {
   "cell_type": "code",
   "execution_count": 44,
   "metadata": {},
   "outputs": [
    {
     "data": {
      "text/html": [
       "<div>\n",
       "<style scoped>\n",
       "    .dataframe tbody tr th:only-of-type {\n",
       "        vertical-align: middle;\n",
       "    }\n",
       "\n",
       "    .dataframe tbody tr th {\n",
       "        vertical-align: top;\n",
       "    }\n",
       "\n",
       "    .dataframe thead th {\n",
       "        text-align: right;\n",
       "    }\n",
       "</style>\n",
       "<table border=\"1\" class=\"dataframe\">\n",
       "  <thead>\n",
       "    <tr style=\"text-align: right;\">\n",
       "      <th></th>\n",
       "      <th>Date</th>\n",
       "      <th>viewCount</th>\n",
       "      <th>likeCount</th>\n",
       "      <th>commentCount</th>\n",
       "      <th>num_video</th>\n",
       "    </tr>\n",
       "  </thead>\n",
       "  <tbody>\n",
       "    <tr>\n",
       "      <th>303</th>\n",
       "      <td>2021-03-25</td>\n",
       "      <td>46457.00000</td>\n",
       "      <td>314.00000</td>\n",
       "      <td>164.00000</td>\n",
       "      <td>2.00000</td>\n",
       "    </tr>\n",
       "    <tr>\n",
       "      <th>304</th>\n",
       "      <td>2021-03-26</td>\n",
       "      <td>NaN</td>\n",
       "      <td>NaN</td>\n",
       "      <td>NaN</td>\n",
       "      <td>NaN</td>\n",
       "    </tr>\n",
       "    <tr>\n",
       "      <th>305</th>\n",
       "      <td>2021-03-29</td>\n",
       "      <td>NaN</td>\n",
       "      <td>NaN</td>\n",
       "      <td>NaN</td>\n",
       "      <td>NaN</td>\n",
       "    </tr>\n",
       "    <tr>\n",
       "      <th>306</th>\n",
       "      <td>2021-03-30</td>\n",
       "      <td>NaN</td>\n",
       "      <td>NaN</td>\n",
       "      <td>NaN</td>\n",
       "      <td>NaN</td>\n",
       "    </tr>\n",
       "    <tr>\n",
       "      <th>307</th>\n",
       "      <td>2021-03-31</td>\n",
       "      <td>NaN</td>\n",
       "      <td>NaN</td>\n",
       "      <td>NaN</td>\n",
       "      <td>NaN</td>\n",
       "    </tr>\n",
       "    <tr>\n",
       "      <th>308</th>\n",
       "      <td>2021-04-01</td>\n",
       "      <td>NaN</td>\n",
       "      <td>NaN</td>\n",
       "      <td>NaN</td>\n",
       "      <td>NaN</td>\n",
       "    </tr>\n",
       "    <tr>\n",
       "      <th>309</th>\n",
       "      <td>2021-04-02</td>\n",
       "      <td>4322.00000</td>\n",
       "      <td>39.00000</td>\n",
       "      <td>14.00000</td>\n",
       "      <td>1.00000</td>\n",
       "    </tr>\n",
       "    <tr>\n",
       "      <th>310</th>\n",
       "      <td>2021-04-05</td>\n",
       "      <td>NaN</td>\n",
       "      <td>NaN</td>\n",
       "      <td>NaN</td>\n",
       "      <td>NaN</td>\n",
       "    </tr>\n",
       "    <tr>\n",
       "      <th>311</th>\n",
       "      <td>2021-04-06</td>\n",
       "      <td>NaN</td>\n",
       "      <td>NaN</td>\n",
       "      <td>NaN</td>\n",
       "      <td>NaN</td>\n",
       "    </tr>\n",
       "    <tr>\n",
       "      <th>312</th>\n",
       "      <td>2021-04-07</td>\n",
       "      <td>NaN</td>\n",
       "      <td>NaN</td>\n",
       "      <td>NaN</td>\n",
       "      <td>NaN</td>\n",
       "    </tr>\n",
       "  </tbody>\n",
       "</table>\n",
       "</div>"
      ],
      "text/plain": [
       "          Date   viewCount  likeCount  commentCount  num_video\n",
       "303 2021-03-25 46457.00000  314.00000     164.00000    2.00000\n",
       "304 2021-03-26         NaN        NaN           NaN        NaN\n",
       "305 2021-03-29         NaN        NaN           NaN        NaN\n",
       "306 2021-03-30         NaN        NaN           NaN        NaN\n",
       "307 2021-03-31         NaN        NaN           NaN        NaN\n",
       "308 2021-04-01         NaN        NaN           NaN        NaN\n",
       "309 2021-04-02  4322.00000   39.00000      14.00000    1.00000\n",
       "310 2021-04-05         NaN        NaN           NaN        NaN\n",
       "311 2021-04-06         NaN        NaN           NaN        NaN\n",
       "312 2021-04-07         NaN        NaN           NaN        NaN"
      ]
     },
     "execution_count": 44,
     "metadata": {},
     "output_type": "execute_result"
    }
   ],
   "source": [
    "youtube_null[303:313]"
   ]
  },
  {
   "cell_type": "code",
   "execution_count": 45,
   "metadata": {
    "scrolled": true
   },
   "outputs": [
    {
     "data": {
      "text/html": [
       "<div>\n",
       "<style scoped>\n",
       "    .dataframe tbody tr th:only-of-type {\n",
       "        vertical-align: middle;\n",
       "    }\n",
       "\n",
       "    .dataframe tbody tr th {\n",
       "        vertical-align: top;\n",
       "    }\n",
       "\n",
       "    .dataframe thead th {\n",
       "        text-align: right;\n",
       "    }\n",
       "</style>\n",
       "<table border=\"1\" class=\"dataframe\">\n",
       "  <thead>\n",
       "    <tr style=\"text-align: right;\">\n",
       "      <th></th>\n",
       "      <th>Date</th>\n",
       "      <th>viewCount</th>\n",
       "      <th>likeCount</th>\n",
       "      <th>commentCount</th>\n",
       "      <th>num_video</th>\n",
       "    </tr>\n",
       "  </thead>\n",
       "  <tbody>\n",
       "    <tr>\n",
       "      <th>303</th>\n",
       "      <td>2021-03-25</td>\n",
       "      <td>46457.00000</td>\n",
       "      <td>314.00000</td>\n",
       "      <td>164.00000</td>\n",
       "      <td>2.00000</td>\n",
       "    </tr>\n",
       "    <tr>\n",
       "      <th>304</th>\n",
       "      <td>2021-03-26</td>\n",
       "      <td>39434.50000</td>\n",
       "      <td>268.16667</td>\n",
       "      <td>139.00000</td>\n",
       "      <td>1.83333</td>\n",
       "    </tr>\n",
       "    <tr>\n",
       "      <th>305</th>\n",
       "      <td>2021-03-29</td>\n",
       "      <td>32412.00000</td>\n",
       "      <td>222.33333</td>\n",
       "      <td>114.00000</td>\n",
       "      <td>1.66667</td>\n",
       "    </tr>\n",
       "    <tr>\n",
       "      <th>306</th>\n",
       "      <td>2021-03-30</td>\n",
       "      <td>25389.50000</td>\n",
       "      <td>176.50000</td>\n",
       "      <td>89.00000</td>\n",
       "      <td>1.50000</td>\n",
       "    </tr>\n",
       "    <tr>\n",
       "      <th>307</th>\n",
       "      <td>2021-03-31</td>\n",
       "      <td>18367.00000</td>\n",
       "      <td>130.66667</td>\n",
       "      <td>64.00000</td>\n",
       "      <td>1.33333</td>\n",
       "    </tr>\n",
       "    <tr>\n",
       "      <th>308</th>\n",
       "      <td>2021-04-01</td>\n",
       "      <td>11344.50000</td>\n",
       "      <td>84.83333</td>\n",
       "      <td>39.00000</td>\n",
       "      <td>1.16667</td>\n",
       "    </tr>\n",
       "    <tr>\n",
       "      <th>309</th>\n",
       "      <td>2021-04-02</td>\n",
       "      <td>4322.00000</td>\n",
       "      <td>39.00000</td>\n",
       "      <td>14.00000</td>\n",
       "      <td>1.00000</td>\n",
       "    </tr>\n",
       "    <tr>\n",
       "      <th>310</th>\n",
       "      <td>2021-04-05</td>\n",
       "      <td>3626.80000</td>\n",
       "      <td>34.00000</td>\n",
       "      <td>11.20000</td>\n",
       "      <td>1.00000</td>\n",
       "    </tr>\n",
       "    <tr>\n",
       "      <th>311</th>\n",
       "      <td>2021-04-06</td>\n",
       "      <td>2931.60000</td>\n",
       "      <td>29.00000</td>\n",
       "      <td>8.40000</td>\n",
       "      <td>1.00000</td>\n",
       "    </tr>\n",
       "    <tr>\n",
       "      <th>312</th>\n",
       "      <td>2021-04-07</td>\n",
       "      <td>2236.40000</td>\n",
       "      <td>24.00000</td>\n",
       "      <td>5.60000</td>\n",
       "      <td>1.00000</td>\n",
       "    </tr>\n",
       "  </tbody>\n",
       "</table>\n",
       "</div>"
      ],
      "text/plain": [
       "          Date   viewCount  likeCount  commentCount  num_video\n",
       "303 2021-03-25 46457.00000  314.00000     164.00000    2.00000\n",
       "304 2021-03-26 39434.50000  268.16667     139.00000    1.83333\n",
       "305 2021-03-29 32412.00000  222.33333     114.00000    1.66667\n",
       "306 2021-03-30 25389.50000  176.50000      89.00000    1.50000\n",
       "307 2021-03-31 18367.00000  130.66667      64.00000    1.33333\n",
       "308 2021-04-01 11344.50000   84.83333      39.00000    1.16667\n",
       "309 2021-04-02  4322.00000   39.00000      14.00000    1.00000\n",
       "310 2021-04-05  3626.80000   34.00000      11.20000    1.00000\n",
       "311 2021-04-06  2931.60000   29.00000       8.40000    1.00000\n",
       "312 2021-04-07  2236.40000   24.00000       5.60000    1.00000"
      ]
     },
     "execution_count": 45,
     "metadata": {},
     "output_type": "execute_result"
    }
   ],
   "source": [
    "youtube_linear = youtube_null.interpolate()\n",
    "youtube_linear[303:313] # 위 데이터와 비교했을 때 결측치가 평균값으로 채워진 것을 확인할 수 있음"
   ]
  },
  {
   "cell_type": "code",
   "execution_count": 46,
   "metadata": {},
   "outputs": [
    {
     "data": {
      "text/plain": [
       "742"
      ]
     },
     "execution_count": 46,
     "metadata": {},
     "output_type": "execute_result"
    }
   ],
   "source": [
    "len(youtube_linear)"
   ]
  },
  {
   "cell_type": "code",
   "execution_count": 47,
   "metadata": {
    "scrolled": true
   },
   "outputs": [
    {
     "data": {
      "text/plain": [
       "696"
      ]
     },
     "execution_count": 47,
     "metadata": {},
     "output_type": "execute_result"
    }
   ],
   "source": [
    "# 초기 데이터는 이전 데이터가 존재하지 않아 결측치 보간이 어렵기 때문에 제거하기로 함\n",
    "youtube_linear = youtube_linear.dropna()\n",
    "len(youtube_linear) # 36개 제거"
   ]
  },
  {
   "cell_type": "markdown",
   "metadata": {},
   "source": [
    "### 최종 데이터"
   ]
  },
  {
   "cell_type": "markdown",
   "metadata": {},
   "source": [
    "- 상관성 분석을 위해 주가 데이터와 유튜브 데이터 병합\n",
    "- 유튜브 데이터의 경우 조회수,좋아요수,댓글수를 모두 합해 youtube_performance 변수 생성"
   ]
  },
  {
   "cell_type": "code",
   "execution_count": 49,
   "metadata": {},
   "outputs": [],
   "source": [
    "youtube_linear['youtube_performance'] = youtube_linear.viewCount + youtube_linear.likeCount + youtube_linear.commentCount\n",
    "youtube_linear = youtube_linear.drop(['viewCount','likeCount','commentCount'], axis=1)"
   ]
  },
  {
   "cell_type": "code",
   "execution_count": 50,
   "metadata": {
    "scrolled": true
   },
   "outputs": [
    {
     "data": {
      "text/html": [
       "<div>\n",
       "<style scoped>\n",
       "    .dataframe tbody tr th:only-of-type {\n",
       "        vertical-align: middle;\n",
       "    }\n",
       "\n",
       "    .dataframe tbody tr th {\n",
       "        vertical-align: top;\n",
       "    }\n",
       "\n",
       "    .dataframe thead th {\n",
       "        text-align: right;\n",
       "    }\n",
       "</style>\n",
       "<table border=\"1\" class=\"dataframe\">\n",
       "  <thead>\n",
       "    <tr style=\"text-align: right;\">\n",
       "      <th></th>\n",
       "      <th>Date</th>\n",
       "      <th>SK</th>\n",
       "      <th>S-Oil</th>\n",
       "      <th>HD현대</th>\n",
       "      <th>GS</th>\n",
       "      <th>LX인터내셔널</th>\n",
       "      <th>num_video</th>\n",
       "      <th>youtube_performance</th>\n",
       "    </tr>\n",
       "  </thead>\n",
       "  <tbody>\n",
       "    <tr>\n",
       "      <th>0</th>\n",
       "      <td>2020-03-10</td>\n",
       "      <td>0.01413</td>\n",
       "      <td>0.05690</td>\n",
       "      <td>-0.01597</td>\n",
       "      <td>0.04799</td>\n",
       "      <td>-0.02857</td>\n",
       "      <td>3.00000</td>\n",
       "      <td>415966.00000</td>\n",
       "    </tr>\n",
       "    <tr>\n",
       "      <th>1</th>\n",
       "      <td>2020-03-11</td>\n",
       "      <td>-0.02488</td>\n",
       "      <td>0.01958</td>\n",
       "      <td>-0.00203</td>\n",
       "      <td>-0.00619</td>\n",
       "      <td>-0.01471</td>\n",
       "      <td>1.00000</td>\n",
       "      <td>112.00000</td>\n",
       "    </tr>\n",
       "    <tr>\n",
       "      <th>2</th>\n",
       "      <td>2020-03-12</td>\n",
       "      <td>-0.05714</td>\n",
       "      <td>-0.05600</td>\n",
       "      <td>-0.06504</td>\n",
       "      <td>-0.05106</td>\n",
       "      <td>-0.06965</td>\n",
       "      <td>1.00000</td>\n",
       "      <td>3000.20000</td>\n",
       "    </tr>\n",
       "  </tbody>\n",
       "</table>\n",
       "</div>"
      ],
      "text/plain": [
       "        Date       SK    S-Oil     HD현대       GS  LX인터내셔널  num_video  \\\n",
       "0 2020-03-10  0.01413  0.05690 -0.01597  0.04799 -0.02857    3.00000   \n",
       "1 2020-03-11 -0.02488  0.01958 -0.00203 -0.00619 -0.01471    1.00000   \n",
       "2 2020-03-12 -0.05714 -0.05600 -0.06504 -0.05106 -0.06965    1.00000   \n",
       "\n",
       "   youtube_performance  \n",
       "0         415966.00000  \n",
       "1            112.00000  \n",
       "2           3000.20000  "
      ]
     },
     "metadata": {},
     "output_type": "display_data"
    },
    {
     "name": "stdout",
     "output_type": "stream",
     "text": [
      "696\n"
     ]
    }
   ],
   "source": [
    "youtube_change = pd.merge(left=stock_change, right=youtube_linear, how='inner', on='Date')\n",
    "display(youtube_change.head(3))\n",
    "print(len(youtube_change))"
   ]
  },
  {
   "cell_type": "code",
   "execution_count": 51,
   "metadata": {
    "scrolled": true
   },
   "outputs": [
    {
     "data": {
      "text/html": [
       "<div>\n",
       "<style scoped>\n",
       "    .dataframe tbody tr th:only-of-type {\n",
       "        vertical-align: middle;\n",
       "    }\n",
       "\n",
       "    .dataframe tbody tr th {\n",
       "        vertical-align: top;\n",
       "    }\n",
       "\n",
       "    .dataframe thead th {\n",
       "        text-align: right;\n",
       "    }\n",
       "</style>\n",
       "<table border=\"1\" class=\"dataframe\">\n",
       "  <thead>\n",
       "    <tr style=\"text-align: right;\">\n",
       "      <th></th>\n",
       "      <th>Date</th>\n",
       "      <th>SK</th>\n",
       "      <th>S-Oil</th>\n",
       "      <th>HD현대</th>\n",
       "      <th>GS</th>\n",
       "      <th>LX인터내셔널</th>\n",
       "      <th>num_video</th>\n",
       "      <th>youtube_performance</th>\n",
       "    </tr>\n",
       "  </thead>\n",
       "  <tbody>\n",
       "    <tr>\n",
       "      <th>0</th>\n",
       "      <td>2020-03-10</td>\n",
       "      <td>100500</td>\n",
       "      <td>61300</td>\n",
       "      <td>49300</td>\n",
       "      <td>40400</td>\n",
       "      <td>10200</td>\n",
       "      <td>3.00000</td>\n",
       "      <td>415966.00000</td>\n",
       "    </tr>\n",
       "    <tr>\n",
       "      <th>1</th>\n",
       "      <td>2020-03-11</td>\n",
       "      <td>98000</td>\n",
       "      <td>62500</td>\n",
       "      <td>49200</td>\n",
       "      <td>40150</td>\n",
       "      <td>10050</td>\n",
       "      <td>1.00000</td>\n",
       "      <td>112.00000</td>\n",
       "    </tr>\n",
       "    <tr>\n",
       "      <th>2</th>\n",
       "      <td>2020-03-12</td>\n",
       "      <td>92400</td>\n",
       "      <td>59000</td>\n",
       "      <td>46000</td>\n",
       "      <td>38100</td>\n",
       "      <td>9350</td>\n",
       "      <td>1.00000</td>\n",
       "      <td>3000.20000</td>\n",
       "    </tr>\n",
       "  </tbody>\n",
       "</table>\n",
       "</div>"
      ],
      "text/plain": [
       "        Date      SK  S-Oil   HD현대     GS  LX인터내셔널  num_video  \\\n",
       "0 2020-03-10  100500  61300  49300  40400    10200    3.00000   \n",
       "1 2020-03-11   98000  62500  49200  40150    10050    1.00000   \n",
       "2 2020-03-12   92400  59000  46000  38100     9350    1.00000   \n",
       "\n",
       "   youtube_performance  \n",
       "0         415966.00000  \n",
       "1            112.00000  \n",
       "2           3000.20000  "
      ]
     },
     "metadata": {},
     "output_type": "display_data"
    },
    {
     "name": "stdout",
     "output_type": "stream",
     "text": [
      "696\n"
     ]
    }
   ],
   "source": [
    "youtube_close = pd.merge(left=stock_close, right=youtube_linear, how='inner', on='Date')\n",
    "display(youtube_close.head(3))\n",
    "print(len(youtube_close))"
   ]
  },
  {
   "cell_type": "code",
   "execution_count": 52,
   "metadata": {},
   "outputs": [
    {
     "data": {
      "text/html": [
       "<div>\n",
       "<style scoped>\n",
       "    .dataframe tbody tr th:only-of-type {\n",
       "        vertical-align: middle;\n",
       "    }\n",
       "\n",
       "    .dataframe tbody tr th {\n",
       "        vertical-align: top;\n",
       "    }\n",
       "\n",
       "    .dataframe thead th {\n",
       "        text-align: right;\n",
       "    }\n",
       "</style>\n",
       "<table border=\"1\" class=\"dataframe\">\n",
       "  <thead>\n",
       "    <tr style=\"text-align: right;\">\n",
       "      <th></th>\n",
       "      <th>Date</th>\n",
       "      <th>SK</th>\n",
       "      <th>S-Oil</th>\n",
       "      <th>HD현대</th>\n",
       "      <th>GS</th>\n",
       "      <th>LX인터내셔널</th>\n",
       "      <th>num_video</th>\n",
       "      <th>youtube_performance</th>\n",
       "    </tr>\n",
       "  </thead>\n",
       "  <tbody>\n",
       "    <tr>\n",
       "      <th>0</th>\n",
       "      <td>2020-03-10</td>\n",
       "      <td>1154291</td>\n",
       "      <td>1214591</td>\n",
       "      <td>120640</td>\n",
       "      <td>361388</td>\n",
       "      <td>465296</td>\n",
       "      <td>3.00000</td>\n",
       "      <td>415966.00000</td>\n",
       "    </tr>\n",
       "    <tr>\n",
       "      <th>1</th>\n",
       "      <td>2020-03-11</td>\n",
       "      <td>791383</td>\n",
       "      <td>677412</td>\n",
       "      <td>63010</td>\n",
       "      <td>262281</td>\n",
       "      <td>347446</td>\n",
       "      <td>1.00000</td>\n",
       "      <td>112.00000</td>\n",
       "    </tr>\n",
       "    <tr>\n",
       "      <th>2</th>\n",
       "      <td>2020-03-12</td>\n",
       "      <td>1006172</td>\n",
       "      <td>784837</td>\n",
       "      <td>96272</td>\n",
       "      <td>345886</td>\n",
       "      <td>502655</td>\n",
       "      <td>1.00000</td>\n",
       "      <td>3000.20000</td>\n",
       "    </tr>\n",
       "  </tbody>\n",
       "</table>\n",
       "</div>"
      ],
      "text/plain": [
       "        Date       SK    S-Oil    HD현대      GS  LX인터내셔널  num_video  \\\n",
       "0 2020-03-10  1154291  1214591  120640  361388   465296    3.00000   \n",
       "1 2020-03-11   791383   677412   63010  262281   347446    1.00000   \n",
       "2 2020-03-12  1006172   784837   96272  345886   502655    1.00000   \n",
       "\n",
       "   youtube_performance  \n",
       "0         415966.00000  \n",
       "1            112.00000  \n",
       "2           3000.20000  "
      ]
     },
     "metadata": {},
     "output_type": "display_data"
    },
    {
     "name": "stdout",
     "output_type": "stream",
     "text": [
      "696\n"
     ]
    }
   ],
   "source": [
    "youtube_volume = pd.merge(left=stock_volume, right=youtube_linear, how='inner', on='Date')\n",
    "display(youtube_volume.head(3))\n",
    "print(len(youtube_volume))"
   ]
  },
  {
   "cell_type": "markdown",
   "metadata": {},
   "source": [
    "### 상관성 분석"
   ]
  },
  {
   "cell_type": "code",
   "execution_count": 53,
   "metadata": {
    "scrolled": false
   },
   "outputs": [
    {
     "data": {
      "text/html": [
       "<div>\n",
       "<style scoped>\n",
       "    .dataframe tbody tr th:only-of-type {\n",
       "        vertical-align: middle;\n",
       "    }\n",
       "\n",
       "    .dataframe tbody tr th {\n",
       "        vertical-align: top;\n",
       "    }\n",
       "\n",
       "    .dataframe thead th {\n",
       "        text-align: right;\n",
       "    }\n",
       "</style>\n",
       "<table border=\"1\" class=\"dataframe\">\n",
       "  <thead>\n",
       "    <tr style=\"text-align: right;\">\n",
       "      <th></th>\n",
       "      <th>SK</th>\n",
       "      <th>S-Oil</th>\n",
       "      <th>HD현대</th>\n",
       "      <th>GS</th>\n",
       "      <th>LX인터내셔널</th>\n",
       "    </tr>\n",
       "  </thead>\n",
       "  <tbody>\n",
       "    <tr>\n",
       "      <th>SK</th>\n",
       "      <td>1.00000</td>\n",
       "      <td>0.47088</td>\n",
       "      <td>0.41144</td>\n",
       "      <td>0.45240</td>\n",
       "      <td>0.40882</td>\n",
       "    </tr>\n",
       "    <tr>\n",
       "      <th>S-Oil</th>\n",
       "      <td>0.47088</td>\n",
       "      <td>1.00000</td>\n",
       "      <td>0.64003</td>\n",
       "      <td>0.69976</td>\n",
       "      <td>0.48824</td>\n",
       "    </tr>\n",
       "    <tr>\n",
       "      <th>HD현대</th>\n",
       "      <td>0.41144</td>\n",
       "      <td>0.64003</td>\n",
       "      <td>1.00000</td>\n",
       "      <td>0.67339</td>\n",
       "      <td>0.52416</td>\n",
       "    </tr>\n",
       "    <tr>\n",
       "      <th>GS</th>\n",
       "      <td>0.45240</td>\n",
       "      <td>0.69976</td>\n",
       "      <td>0.67339</td>\n",
       "      <td>1.00000</td>\n",
       "      <td>0.45753</td>\n",
       "    </tr>\n",
       "    <tr>\n",
       "      <th>LX인터내셔널</th>\n",
       "      <td>0.40882</td>\n",
       "      <td>0.48824</td>\n",
       "      <td>0.52416</td>\n",
       "      <td>0.45753</td>\n",
       "      <td>1.00000</td>\n",
       "    </tr>\n",
       "  </tbody>\n",
       "</table>\n",
       "</div>"
      ],
      "text/plain": [
       "             SK   S-Oil    HD현대      GS  LX인터내셔널\n",
       "SK      1.00000 0.47088 0.41144 0.45240  0.40882\n",
       "S-Oil   0.47088 1.00000 0.64003 0.69976  0.48824\n",
       "HD현대    0.41144 0.64003 1.00000 0.67339  0.52416\n",
       "GS      0.45240 0.69976 0.67339 1.00000  0.45753\n",
       "LX인터내셔널 0.40882 0.48824 0.52416 0.45753  1.00000"
      ]
     },
     "metadata": {},
     "output_type": "display_data"
    },
    {
     "data": {
      "text/html": [
       "<div>\n",
       "<style scoped>\n",
       "    .dataframe tbody tr th:only-of-type {\n",
       "        vertical-align: middle;\n",
       "    }\n",
       "\n",
       "    .dataframe tbody tr th {\n",
       "        vertical-align: top;\n",
       "    }\n",
       "\n",
       "    .dataframe thead th {\n",
       "        text-align: right;\n",
       "    }\n",
       "</style>\n",
       "<table border=\"1\" class=\"dataframe\">\n",
       "  <thead>\n",
       "    <tr style=\"text-align: right;\">\n",
       "      <th></th>\n",
       "      <th>SK</th>\n",
       "      <th>S-Oil</th>\n",
       "      <th>HD현대</th>\n",
       "      <th>GS</th>\n",
       "      <th>LX인터내셔널</th>\n",
       "    </tr>\n",
       "  </thead>\n",
       "  <tbody>\n",
       "    <tr>\n",
       "      <th>SK</th>\n",
       "      <td>1.00000</td>\n",
       "      <td>0.64381</td>\n",
       "      <td>0.60464</td>\n",
       "      <td>0.35622</td>\n",
       "      <td>0.55622</td>\n",
       "    </tr>\n",
       "    <tr>\n",
       "      <th>S-Oil</th>\n",
       "      <td>0.64381</td>\n",
       "      <td>1.00000</td>\n",
       "      <td>0.74933</td>\n",
       "      <td>0.77962</td>\n",
       "      <td>0.75005</td>\n",
       "    </tr>\n",
       "    <tr>\n",
       "      <th>HD현대</th>\n",
       "      <td>0.60464</td>\n",
       "      <td>0.74933</td>\n",
       "      <td>1.00000</td>\n",
       "      <td>0.80904</td>\n",
       "      <td>0.59773</td>\n",
       "    </tr>\n",
       "    <tr>\n",
       "      <th>GS</th>\n",
       "      <td>0.35622</td>\n",
       "      <td>0.77962</td>\n",
       "      <td>0.80904</td>\n",
       "      <td>1.00000</td>\n",
       "      <td>0.64258</td>\n",
       "    </tr>\n",
       "    <tr>\n",
       "      <th>LX인터내셔널</th>\n",
       "      <td>0.55622</td>\n",
       "      <td>0.75005</td>\n",
       "      <td>0.59773</td>\n",
       "      <td>0.64258</td>\n",
       "      <td>1.00000</td>\n",
       "    </tr>\n",
       "  </tbody>\n",
       "</table>\n",
       "</div>"
      ],
      "text/plain": [
       "             SK   S-Oil    HD현대      GS  LX인터내셔널\n",
       "SK      1.00000 0.64381 0.60464 0.35622  0.55622\n",
       "S-Oil   0.64381 1.00000 0.74933 0.77962  0.75005\n",
       "HD현대    0.60464 0.74933 1.00000 0.80904  0.59773\n",
       "GS      0.35622 0.77962 0.80904 1.00000  0.64258\n",
       "LX인터내셔널 0.55622 0.75005 0.59773 0.64258  1.00000"
      ]
     },
     "metadata": {},
     "output_type": "display_data"
    },
    {
     "data": {
      "text/html": [
       "<div>\n",
       "<style scoped>\n",
       "    .dataframe tbody tr th:only-of-type {\n",
       "        vertical-align: middle;\n",
       "    }\n",
       "\n",
       "    .dataframe tbody tr th {\n",
       "        vertical-align: top;\n",
       "    }\n",
       "\n",
       "    .dataframe thead th {\n",
       "        text-align: right;\n",
       "    }\n",
       "</style>\n",
       "<table border=\"1\" class=\"dataframe\">\n",
       "  <thead>\n",
       "    <tr style=\"text-align: right;\">\n",
       "      <th></th>\n",
       "      <th>SK</th>\n",
       "      <th>S-Oil</th>\n",
       "      <th>HD현대</th>\n",
       "      <th>GS</th>\n",
       "      <th>LX인터내셔널</th>\n",
       "    </tr>\n",
       "  </thead>\n",
       "  <tbody>\n",
       "    <tr>\n",
       "      <th>SK</th>\n",
       "      <td>1.00000</td>\n",
       "      <td>0.38208</td>\n",
       "      <td>-0.07592</td>\n",
       "      <td>0.41356</td>\n",
       "      <td>0.06878</td>\n",
       "    </tr>\n",
       "    <tr>\n",
       "      <th>S-Oil</th>\n",
       "      <td>0.38208</td>\n",
       "      <td>1.00000</td>\n",
       "      <td>0.14583</td>\n",
       "      <td>0.56099</td>\n",
       "      <td>0.19333</td>\n",
       "    </tr>\n",
       "    <tr>\n",
       "      <th>HD현대</th>\n",
       "      <td>-0.07592</td>\n",
       "      <td>0.14583</td>\n",
       "      <td>1.00000</td>\n",
       "      <td>0.25864</td>\n",
       "      <td>0.06724</td>\n",
       "    </tr>\n",
       "    <tr>\n",
       "      <th>GS</th>\n",
       "      <td>0.41356</td>\n",
       "      <td>0.56099</td>\n",
       "      <td>0.25864</td>\n",
       "      <td>1.00000</td>\n",
       "      <td>0.18779</td>\n",
       "    </tr>\n",
       "    <tr>\n",
       "      <th>LX인터내셔널</th>\n",
       "      <td>0.06878</td>\n",
       "      <td>0.19333</td>\n",
       "      <td>0.06724</td>\n",
       "      <td>0.18779</td>\n",
       "      <td>1.00000</td>\n",
       "    </tr>\n",
       "  </tbody>\n",
       "</table>\n",
       "</div>"
      ],
      "text/plain": [
       "              SK   S-Oil     HD현대      GS  LX인터내셔널\n",
       "SK       1.00000 0.38208 -0.07592 0.41356  0.06878\n",
       "S-Oil    0.38208 1.00000  0.14583 0.56099  0.19333\n",
       "HD현대    -0.07592 0.14583  1.00000 0.25864  0.06724\n",
       "GS       0.41356 0.56099  0.25864 1.00000  0.18779\n",
       "LX인터내셔널  0.06878 0.19333  0.06724 0.18779  1.00000"
      ]
     },
     "metadata": {},
     "output_type": "display_data"
    }
   ],
   "source": [
    "display(stock_change.corr())\n",
    "display(stock_close.corr())\n",
    "display(stock_volume.corr())"
   ]
  },
  {
   "cell_type": "markdown",
   "metadata": {},
   "source": [
    "**유튜브-등락률 상관관계**"
   ]
  },
  {
   "cell_type": "code",
   "execution_count": 54,
   "metadata": {
    "scrolled": false
   },
   "outputs": [
    {
     "data": {
      "image/png": "[encoded data removed]",
      "text/plain": [
       "<Figure size 576x576 with 2 Axes>"
      ]
     },
     "metadata": {
      "needs_background": "light"
     },
     "output_type": "display_data"
    }
   ],
   "source": [
    "change_corr = youtube_change.corr()\n",
    "# 그림 사이즈 지정\n",
    "fig, ax = plt.subplots(figsize=(8,8))\n",
    "\n",
    "# 히트맵을 그린다\n",
    "sns.heatmap(change_corr, \n",
    "            cmap = 'RdYlBu_r', \n",
    "            annot = True,   # 실제 값을 표시한다\n",
    "            linewidths=.5,  # 경계면 실선으로 구분하기\n",
    "            cbar_kws={\"shrink\": .5},# 컬러바 크기 절반으로 줄이기\n",
    "            vmin = -1,vmax = 1   # 컬러바 범위 -1 ~ 1\n",
    "           )  \n",
    "plt.show()"
   ]
  },
  {
   "cell_type": "markdown",
   "metadata": {},
   "source": [
    "**등락률의 경우 네 종목 모두 큰 상관관계가 없음**"
   ]
  },
  {
   "cell_type": "markdown",
   "metadata": {},
   "source": [
    "**유튜브-종가 상관관계**"
   ]
  },
  {
   "cell_type": "code",
   "execution_count": 55,
   "metadata": {
    "scrolled": false
   },
   "outputs": [
    {
     "data": {
      "image/png": "[encoded data removed]",
      "text/plain": [
       "<Figure size 576x576 with 2 Axes>"
      ]
     },
     "metadata": {
      "needs_background": "light"
     },
     "output_type": "display_data"
    }
   ],
   "source": [
    "close_corr = youtube_close.corr()\n",
    "# 그림 사이즈 지정\n",
    "fig, ax = plt.subplots( figsize=(8,8) )\n",
    "\n",
    "# 히트맵을 그린다\n",
    "sns.heatmap(close_corr, \n",
    "            cmap = 'RdYlBu_r', \n",
    "            annot = True,   # 실제 값을 표시한다\n",
    "            linewidths=.5,  # 경계면 실선으로 구분하기\n",
    "            cbar_kws={\"shrink\": .5},# 컬러바 크기 절반으로 줄이기\n",
    "            vmin = -1,vmax = 1   # 컬러바 범위 -1 ~ 1\n",
    "           )  \n",
    "plt.show()"
   ]
  },
  {
   "cell_type": "markdown",
   "metadata": {},
   "source": [
    "**종가의 경우 S-Oil, LX인터내셔널이 유튜브 영상 개수과 약간의 양의 상관관계가 있지만 그 정도가 크지 않음**"
   ]
  },
  {
   "cell_type": "markdown",
   "metadata": {},
   "source": [
    "#### 유튜브-거래량 상관관계"
   ]
  },
  {
   "cell_type": "code",
   "execution_count": 56,
   "metadata": {
    "scrolled": false
   },
   "outputs": [
    {
     "data": {
      "image/png": "[encoded data removed]",
      "text/plain": [
       "<Figure size 576x576 with 2 Axes>"
      ]
     },
     "metadata": {
      "needs_background": "light"
     },
     "output_type": "display_data"
    }
   ],
   "source": [
    "volume_corr = youtube_volume.corr()\n",
    "# 그림 사이즈 지정\n",
    "fig, ax = plt.subplots( figsize=(8,8) )\n",
    "\n",
    "# 히트맵을 그린다\n",
    "sns.heatmap(volume_corr, \n",
    "            cmap = 'RdYlBu_r', \n",
    "            annot = True,   # 실제 값을 표시한다\n",
    "            linewidths=.5,  # 경계면 실선으로 구분하기\n",
    "            cbar_kws={\"shrink\": .5},# 컬러바 크기 절반으로 줄이기\n",
    "            vmin = -1,vmax = 1   # 컬러바 범위 -1 ~ 1\n",
    "           )  \n",
    "plt.show()"
   ]
  },
  {
   "cell_type": "markdown",
   "metadata": {},
   "source": [
    "**거래량의 경우 S-Oil는 영상 개수와, HD현대는 영상개수, 유튜브 반응과 약간의 양의 상관성이 있음**"
   ]
  }
 ],
 "metadata": {
  "kernelspec": {
   "display_name": "Python 3",
   "language": "python",
   "name": "python3"
  },
  "language_info": {
   "codemirror_mode": {
    "name": "ipython",
    "version": 3
   },
   "file_extension": ".py",
   "mimetype": "text/x-python",
   "name": "python",
   "nbconvert_exporter": "python",
   "pygments_lexer": "ipython3",
   "version": "3.8.5"
  }
 },
 "nbformat": 4,
 "nbformat_minor": 4
}
