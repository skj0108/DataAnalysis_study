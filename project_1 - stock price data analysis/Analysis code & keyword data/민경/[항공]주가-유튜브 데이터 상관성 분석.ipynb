{
 "cells": [
  {
   "cell_type": "code",
   "execution_count": 1,
   "metadata": {},
   "outputs": [],
   "source": [
    "import pandas as pd\n",
    "import numpy as np\n",
    "import matplotlib.pyplot as plt\n",
    "import seaborn as sns\n",
    "import FinanceDataReader as fdr\n",
    "import datetime as dt\n",
    "from tqdm import tqdm_notebook"
   ]
  },
  {
   "cell_type": "code",
   "execution_count": 2,
   "metadata": {},
   "outputs": [],
   "source": [
    "# 마이너스 깨짐 설정\n",
    "import matplotlib\n",
    "matplotlib.rcParams['axes.unicode_minus'] = False\n",
    "\n",
    "# 지수 표현 설정\n",
    "pd.options.display.float_format = '{:.5f}'.format"
   ]
  },
  {
   "cell_type": "markdown",
   "metadata": {},
   "source": [
    "### 데이터 불러오기"
   ]
  },
  {
   "cell_type": "code",
   "execution_count": 123,
   "metadata": {
    "scrolled": false
   },
   "outputs": [
    {
     "data": {
      "text/html": [
       "<div>\n",
       "<style scoped>\n",
       "    .dataframe tbody tr th:only-of-type {\n",
       "        vertical-align: middle;\n",
       "    }\n",
       "\n",
       "    .dataframe tbody tr th {\n",
       "        vertical-align: top;\n",
       "    }\n",
       "\n",
       "    .dataframe thead th {\n",
       "        text-align: right;\n",
       "    }\n",
       "</style>\n",
       "<table border=\"1\" class=\"dataframe\">\n",
       "  <thead>\n",
       "    <tr style=\"text-align: right;\">\n",
       "      <th></th>\n",
       "      <th>viewCount</th>\n",
       "      <th>likeCount</th>\n",
       "      <th>favoriteCount</th>\n",
       "      <th>commentCount</th>\n",
       "      <th>key</th>\n",
       "      <th>title</th>\n",
       "      <th>channel</th>\n",
       "      <th>url</th>\n",
       "      <th>date</th>\n",
       "    </tr>\n",
       "  </thead>\n",
       "  <tbody>\n",
       "    <tr>\n",
       "      <th>0</th>\n",
       "      <td>4826</td>\n",
       "      <td>35.00000</td>\n",
       "      <td>0</td>\n",
       "      <td>17.00000</td>\n",
       "      <td>항공 +코로나 -스포츠</td>\n",
       "      <td>&amp;quot;다시 하늘 날고 싶어요&amp;quot;...코로나 1년 벼랑 끝 항공산업 / YTN</td>\n",
       "      <td>YTN</td>\n",
       "      <td>https://www.youtube.com/watch?v=L-0_i8hiZbY</td>\n",
       "      <td>2021-01-19</td>\n",
       "    </tr>\n",
       "    <tr>\n",
       "      <th>1</th>\n",
       "      <td>40679</td>\n",
       "      <td>453.00000</td>\n",
       "      <td>0</td>\n",
       "      <td>32.00000</td>\n",
       "      <td>항공 +코로나 -스포츠</td>\n",
       "      <td>[다큐온] ✈️국내 공항과 항공, 여행업계의 새로운 도전의 현장 &amp;quot;코로나를...</td>\n",
       "      <td>KBS 다큐</td>\n",
       "      <td>https://www.youtube.com/watch?v=SPNXUaSEfMU</td>\n",
       "      <td>2021-12-03</td>\n",
       "    </tr>\n",
       "    <tr>\n",
       "      <th>2</th>\n",
       "      <td>7578</td>\n",
       "      <td>90.00000</td>\n",
       "      <td>0</td>\n",
       "      <td>4.00000</td>\n",
       "      <td>항공 +코로나 -스포츠</td>\n",
       "      <td>코로나19의 직격타를 맞은 항공업계의 현황과 향후 전망 🛫</td>\n",
       "      <td>JOB+채용</td>\n",
       "      <td>https://www.youtube.com/watch?v=iX0cxWiSJ9M</td>\n",
       "      <td>2021-03-05</td>\n",
       "    </tr>\n",
       "  </tbody>\n",
       "</table>\n",
       "</div>"
      ],
      "text/plain": [
       "   viewCount  likeCount  favoriteCount  commentCount           key  \\\n",
       "0       4826   35.00000              0      17.00000  항공 +코로나 -스포츠   \n",
       "1      40679  453.00000              0      32.00000  항공 +코로나 -스포츠   \n",
       "2       7578   90.00000              0       4.00000  항공 +코로나 -스포츠   \n",
       "\n",
       "                                               title channel  \\\n",
       "0  &quot;다시 하늘 날고 싶어요&quot;...코로나 1년 벼랑 끝 항공산업 / YTN     YTN   \n",
       "1  [다큐온] ✈️국내 공항과 항공, 여행업계의 새로운 도전의 현장 &quot;코로나를...  KBS 다큐   \n",
       "2                   코로나19의 직격타를 맞은 항공업계의 현황과 향후 전망 🛫  JOB+채용   \n",
       "\n",
       "                                           url        date  \n",
       "0  https://www.youtube.com/watch?v=L-0_i8hiZbY  2021-01-19  \n",
       "1  https://www.youtube.com/watch?v=SPNXUaSEfMU  2021-12-03  \n",
       "2  https://www.youtube.com/watch?v=iX0cxWiSJ9M  2021-03-05  "
      ]
     },
     "execution_count": 123,
     "metadata": {},
     "output_type": "execute_result"
    }
   ],
   "source": [
    "youtube = pd.read_csv('항공+코로나-스포츠_관련성순.csv')\n",
    "youtube.head(3)"
   ]
  },
  {
   "cell_type": "code",
   "execution_count": 124,
   "metadata": {},
   "outputs": [],
   "source": [
    "stock_list = pd.DataFrame({'name': ['대한항공','제주항공','진에어','에어부산'], 'Ticker' :['003490','089590','272450','298690']})"
   ]
  },
  {
   "cell_type": "code",
   "execution_count": 125,
   "metadata": {},
   "outputs": [],
   "source": [
    "stock_change = pd.DataFrame()\n",
    "stock_close = pd.DataFrame()\n",
    "stock_volume = pd.DataFrame()\n",
    "for i in range(stock_list.shape[0]):\n",
    "    stock = fdr.DataReader(stock_list.Ticker[i], start='2020-01-01', end='2022-12-31')[['Close','Change','Volume']].reset_index()\n",
    "    stock_close[stock_list.name[i]] = stock['Close']\n",
    "    stock_change[stock_list.name[i]] = stock['Change']\n",
    "    stock_volume[stock_list.name[i]] = stock['Volume']\n",
    "stock_close.set_index(stock['Date'], inplace=True)\n",
    "stock_change.set_index(stock['Date'], inplace=True)\n",
    "stock_volume.set_index(stock['Date'], inplace=True)"
   ]
  },
  {
   "cell_type": "code",
   "execution_count": 126,
   "metadata": {
    "scrolled": false
   },
   "outputs": [
    {
     "data": {
      "text/html": [
       "<div>\n",
       "<style scoped>\n",
       "    .dataframe tbody tr th:only-of-type {\n",
       "        vertical-align: middle;\n",
       "    }\n",
       "\n",
       "    .dataframe tbody tr th {\n",
       "        vertical-align: top;\n",
       "    }\n",
       "\n",
       "    .dataframe thead th {\n",
       "        text-align: right;\n",
       "    }\n",
       "</style>\n",
       "<table border=\"1\" class=\"dataframe\">\n",
       "  <thead>\n",
       "    <tr style=\"text-align: right;\">\n",
       "      <th></th>\n",
       "      <th>대한항공</th>\n",
       "      <th>제주항공</th>\n",
       "      <th>진에어</th>\n",
       "      <th>에어부산</th>\n",
       "    </tr>\n",
       "    <tr>\n",
       "      <th>Date</th>\n",
       "      <th></th>\n",
       "      <th></th>\n",
       "      <th></th>\n",
       "      <th></th>\n",
       "    </tr>\n",
       "  </thead>\n",
       "  <tbody>\n",
       "    <tr>\n",
       "      <th>2020-01-02</th>\n",
       "      <td>18058</td>\n",
       "      <td>20687</td>\n",
       "      <td>13289</td>\n",
       "      <td>11350</td>\n",
       "    </tr>\n",
       "    <tr>\n",
       "      <th>2020-01-03</th>\n",
       "      <td>17701</td>\n",
       "      <td>20304</td>\n",
       "      <td>13246</td>\n",
       "      <td>11488</td>\n",
       "    </tr>\n",
       "    <tr>\n",
       "      <th>2020-01-06</th>\n",
       "      <td>17183</td>\n",
       "      <td>19387</td>\n",
       "      <td>12856</td>\n",
       "      <td>10975</td>\n",
       "    </tr>\n",
       "  </tbody>\n",
       "</table>\n",
       "</div>"
      ],
      "text/plain": [
       "             대한항공   제주항공    진에어   에어부산\n",
       "Date                                  \n",
       "2020-01-02  18058  20687  13289  11350\n",
       "2020-01-03  17701  20304  13246  11488\n",
       "2020-01-06  17183  19387  12856  10975"
      ]
     },
     "execution_count": 126,
     "metadata": {},
     "output_type": "execute_result"
    }
   ],
   "source": [
    "stock_close.head(3)"
   ]
  },
  {
   "cell_type": "code",
   "execution_count": 127,
   "metadata": {
    "scrolled": false
   },
   "outputs": [
    {
     "data": {
      "text/html": [
       "<div>\n",
       "<style scoped>\n",
       "    .dataframe tbody tr th:only-of-type {\n",
       "        vertical-align: middle;\n",
       "    }\n",
       "\n",
       "    .dataframe tbody tr th {\n",
       "        vertical-align: top;\n",
       "    }\n",
       "\n",
       "    .dataframe thead th {\n",
       "        text-align: right;\n",
       "    }\n",
       "</style>\n",
       "<table border=\"1\" class=\"dataframe\">\n",
       "  <thead>\n",
       "    <tr style=\"text-align: right;\">\n",
       "      <th></th>\n",
       "      <th>대한항공</th>\n",
       "      <th>제주항공</th>\n",
       "      <th>진에어</th>\n",
       "      <th>에어부산</th>\n",
       "    </tr>\n",
       "    <tr>\n",
       "      <th>Date</th>\n",
       "      <th></th>\n",
       "      <th></th>\n",
       "      <th></th>\n",
       "      <th></th>\n",
       "    </tr>\n",
       "  </thead>\n",
       "  <tbody>\n",
       "    <tr>\n",
       "      <th>2020-01-02</th>\n",
       "      <td>-0.02284</td>\n",
       "      <td>0.00932</td>\n",
       "      <td>0.00000</td>\n",
       "      <td>-0.02366</td>\n",
       "    </tr>\n",
       "    <tr>\n",
       "      <th>2020-01-03</th>\n",
       "      <td>-0.01977</td>\n",
       "      <td>-0.01851</td>\n",
       "      <td>-0.00324</td>\n",
       "      <td>0.01216</td>\n",
       "    </tr>\n",
       "    <tr>\n",
       "      <th>2020-01-06</th>\n",
       "      <td>-0.02926</td>\n",
       "      <td>-0.04516</td>\n",
       "      <td>-0.02944</td>\n",
       "      <td>-0.04466</td>\n",
       "    </tr>\n",
       "  </tbody>\n",
       "</table>\n",
       "</div>"
      ],
      "text/plain": [
       "               대한항공     제주항공      진에어     에어부산\n",
       "Date                                          \n",
       "2020-01-02 -0.02284  0.00932  0.00000 -0.02366\n",
       "2020-01-03 -0.01977 -0.01851 -0.00324  0.01216\n",
       "2020-01-06 -0.02926 -0.04516 -0.02944 -0.04466"
      ]
     },
     "execution_count": 127,
     "metadata": {},
     "output_type": "execute_result"
    }
   ],
   "source": [
    "stock_change.head(3)"
   ]
  },
  {
   "cell_type": "code",
   "execution_count": 128,
   "metadata": {},
   "outputs": [
    {
     "data": {
      "text/html": [
       "<div>\n",
       "<style scoped>\n",
       "    .dataframe tbody tr th:only-of-type {\n",
       "        vertical-align: middle;\n",
       "    }\n",
       "\n",
       "    .dataframe tbody tr th {\n",
       "        vertical-align: top;\n",
       "    }\n",
       "\n",
       "    .dataframe thead th {\n",
       "        text-align: right;\n",
       "    }\n",
       "</style>\n",
       "<table border=\"1\" class=\"dataframe\">\n",
       "  <thead>\n",
       "    <tr style=\"text-align: right;\">\n",
       "      <th></th>\n",
       "      <th>대한항공</th>\n",
       "      <th>제주항공</th>\n",
       "      <th>진에어</th>\n",
       "      <th>에어부산</th>\n",
       "    </tr>\n",
       "    <tr>\n",
       "      <th>Date</th>\n",
       "      <th></th>\n",
       "      <th></th>\n",
       "      <th></th>\n",
       "      <th></th>\n",
       "    </tr>\n",
       "  </thead>\n",
       "  <tbody>\n",
       "    <tr>\n",
       "      <th>2020-01-02</th>\n",
       "      <td>303459</td>\n",
       "      <td>70589</td>\n",
       "      <td>100738</td>\n",
       "      <td>306236</td>\n",
       "    </tr>\n",
       "    <tr>\n",
       "      <th>2020-01-03</th>\n",
       "      <td>572272</td>\n",
       "      <td>329080</td>\n",
       "      <td>132958</td>\n",
       "      <td>222202</td>\n",
       "    </tr>\n",
       "    <tr>\n",
       "      <th>2020-01-06</th>\n",
       "      <td>690224</td>\n",
       "      <td>262226</td>\n",
       "      <td>577988</td>\n",
       "      <td>317740</td>\n",
       "    </tr>\n",
       "  </tbody>\n",
       "</table>\n",
       "</div>"
      ],
      "text/plain": [
       "              대한항공    제주항공     진에어    에어부산\n",
       "Date                                      \n",
       "2020-01-02  303459   70589  100738  306236\n",
       "2020-01-03  572272  329080  132958  222202\n",
       "2020-01-06  690224  262226  577988  317740"
      ]
     },
     "execution_count": 128,
     "metadata": {},
     "output_type": "execute_result"
    }
   ],
   "source": [
    "stock_volume.head(3)"
   ]
  },
  {
   "cell_type": "markdown",
   "metadata": {},
   "source": [
    "### 데이터 확인"
   ]
  },
  {
   "cell_type": "code",
   "execution_count": 129,
   "metadata": {},
   "outputs": [
    {
     "name": "stdout",
     "output_type": "stream",
     "text": [
      "<class 'pandas.core.frame.DataFrame'>\n",
      "RangeIndex: 592 entries, 0 to 591\n",
      "Data columns (total 9 columns):\n",
      " #   Column         Non-Null Count  Dtype  \n",
      "---  ------         --------------  -----  \n",
      " 0   viewCount      592 non-null    int64  \n",
      " 1   likeCount      578 non-null    float64\n",
      " 2   favoriteCount  592 non-null    int64  \n",
      " 3   commentCount   582 non-null    float64\n",
      " 4   key            592 non-null    object \n",
      " 5   title          592 non-null    object \n",
      " 6   channel        592 non-null    object \n",
      " 7   url            592 non-null    object \n",
      " 8   date           592 non-null    object \n",
      "dtypes: float64(2), int64(2), object(5)\n",
      "memory usage: 41.8+ KB\n"
     ]
    }
   ],
   "source": [
    "youtube.info()\n",
    "# likeCount, commentCount - 결측치 존재"
   ]
  },
  {
   "cell_type": "code",
   "execution_count": 130,
   "metadata": {},
   "outputs": [
    {
     "name": "stdout",
     "output_type": "stream",
     "text": [
      "<class 'pandas.core.frame.DataFrame'>\n",
      "DatetimeIndex: 742 entries, 2020-01-02 to 2022-12-29\n",
      "Data columns (total 4 columns):\n",
      " #   Column  Non-Null Count  Dtype\n",
      "---  ------  --------------  -----\n",
      " 0   대한항공    742 non-null    int64\n",
      " 1   제주항공    742 non-null    int64\n",
      " 2   진에어     742 non-null    int64\n",
      " 3   에어부산    742 non-null    int64\n",
      "dtypes: int64(4)\n",
      "memory usage: 29.0 KB\n"
     ]
    }
   ],
   "source": [
    "stock_close.info() # 결측치 없음"
   ]
  },
  {
   "cell_type": "code",
   "execution_count": 131,
   "metadata": {
    "scrolled": true
   },
   "outputs": [
    {
     "name": "stdout",
     "output_type": "stream",
     "text": [
      "<class 'pandas.core.frame.DataFrame'>\n",
      "DatetimeIndex: 742 entries, 2020-01-02 to 2022-12-29\n",
      "Data columns (total 4 columns):\n",
      " #   Column  Non-Null Count  Dtype  \n",
      "---  ------  --------------  -----  \n",
      " 0   대한항공    742 non-null    float64\n",
      " 1   제주항공    742 non-null    float64\n",
      " 2   진에어     742 non-null    float64\n",
      " 3   에어부산    742 non-null    float64\n",
      "dtypes: float64(4)\n",
      "memory usage: 29.0 KB\n"
     ]
    }
   ],
   "source": [
    "stock_change.info() # 결측치 없음"
   ]
  },
  {
   "cell_type": "code",
   "execution_count": 132,
   "metadata": {},
   "outputs": [
    {
     "name": "stdout",
     "output_type": "stream",
     "text": [
      "<class 'pandas.core.frame.DataFrame'>\n",
      "DatetimeIndex: 742 entries, 2020-01-02 to 2022-12-29\n",
      "Data columns (total 4 columns):\n",
      " #   Column  Non-Null Count  Dtype\n",
      "---  ------  --------------  -----\n",
      " 0   대한항공    742 non-null    int64\n",
      " 1   제주항공    742 non-null    int64\n",
      " 2   진에어     742 non-null    int64\n",
      " 3   에어부산    742 non-null    int64\n",
      "dtypes: int64(4)\n",
      "memory usage: 29.0 KB\n"
     ]
    }
   ],
   "source": [
    "stock_volume.info()"
   ]
  },
  {
   "cell_type": "markdown",
   "metadata": {},
   "source": [
    "### 결측치 처리"
   ]
  },
  {
   "cell_type": "code",
   "execution_count": 133,
   "metadata": {},
   "outputs": [
    {
     "data": {
      "text/plain": [
       "viewCount         0\n",
       "likeCount        14\n",
       "favoriteCount     0\n",
       "commentCount     10\n",
       "key               0\n",
       "title             0\n",
       "channel           0\n",
       "url               0\n",
       "date              0\n",
       "dtype: int64"
      ]
     },
     "execution_count": 133,
     "metadata": {},
     "output_type": "execute_result"
    }
   ],
   "source": [
    "youtube.isnull().sum()"
   ]
  },
  {
   "cell_type": "code",
   "execution_count": 134,
   "metadata": {},
   "outputs": [
    {
     "data": {
      "text/plain": [
       "0    592\n",
       "Name: favoriteCount, dtype: int64"
      ]
     },
     "execution_count": 134,
     "metadata": {},
     "output_type": "execute_result"
    }
   ],
   "source": [
    "youtube['favoriteCount'].value_counts() # 0만 존재"
   ]
  },
  {
   "cell_type": "code",
   "execution_count": 135,
   "metadata": {
    "scrolled": true
   },
   "outputs": [
    {
     "data": {
      "text/html": [
       "<div>\n",
       "<style scoped>\n",
       "    .dataframe tbody tr th:only-of-type {\n",
       "        vertical-align: middle;\n",
       "    }\n",
       "\n",
       "    .dataframe tbody tr th {\n",
       "        vertical-align: top;\n",
       "    }\n",
       "\n",
       "    .dataframe thead th {\n",
       "        text-align: right;\n",
       "    }\n",
       "</style>\n",
       "<table border=\"1\" class=\"dataframe\">\n",
       "  <thead>\n",
       "    <tr style=\"text-align: right;\">\n",
       "      <th></th>\n",
       "      <th>viewCount</th>\n",
       "      <th>likeCount</th>\n",
       "      <th>favoriteCount</th>\n",
       "      <th>commentCount</th>\n",
       "      <th>key</th>\n",
       "      <th>title</th>\n",
       "      <th>channel</th>\n",
       "      <th>url</th>\n",
       "      <th>date</th>\n",
       "    </tr>\n",
       "  </thead>\n",
       "  <tbody>\n",
       "    <tr>\n",
       "      <th>86</th>\n",
       "      <td>6070</td>\n",
       "      <td>NaN</td>\n",
       "      <td>0</td>\n",
       "      <td>21.00000</td>\n",
       "      <td>항공 +코로나 -스포츠</td>\n",
       "      <td>대한민국공군의 코로나19 백신 첫 항공 수송!</td>\n",
       "      <td>대한민국공군</td>\n",
       "      <td>https://www.youtube.com/watch?v=psdsNUKkDJI</td>\n",
       "      <td>2021-03-02</td>\n",
       "    </tr>\n",
       "    <tr>\n",
       "      <th>130</th>\n",
       "      <td>1113</td>\n",
       "      <td>NaN</td>\n",
       "      <td>0</td>\n",
       "      <td>0.00000</td>\n",
       "      <td>항공 +코로나 -스포츠</td>\n",
       "      <td>코로나 4차유행 확산…하반기 항공 업계는? #아시아나항공 #티웨이항공 #엄경아 연구...</td>\n",
       "      <td>토마토증권통 TomatoTV</td>\n",
       "      <td>https://www.youtube.com/watch?v=Hi35kmEBGjw</td>\n",
       "      <td>2021-07-28</td>\n",
       "    </tr>\n",
       "    <tr>\n",
       "      <th>209</th>\n",
       "      <td>129</td>\n",
       "      <td>NaN</td>\n",
       "      <td>0</td>\n",
       "      <td>0.00000</td>\n",
       "      <td>항공 +코로나 -스포츠</td>\n",
       "      <td>[토마토TV 연결고리] 코로나에도 항공 부품기업은 가파른 경기 회복..국내 관련주는...</td>\n",
       "      <td>토마토증권통 TomatoTV</td>\n",
       "      <td>https://www.youtube.com/watch?v=7rYcSLxueRA</td>\n",
       "      <td>2021-08-13</td>\n",
       "    </tr>\n",
       "    <tr>\n",
       "      <th>268</th>\n",
       "      <td>570</td>\n",
       "      <td>NaN</td>\n",
       "      <td>0</td>\n",
       "      <td>0.00000</td>\n",
       "      <td>항공 +코로나 -스포츠</td>\n",
       "      <td>항공정비사의 포스트 코로나 준비</td>\n",
       "      <td>Jason Park</td>\n",
       "      <td>https://www.youtube.com/watch?v=J-Jm2P22q30</td>\n",
       "      <td>2020-06-30</td>\n",
       "    </tr>\n",
       "    <tr>\n",
       "      <th>308</th>\n",
       "      <td>374</td>\n",
       "      <td>NaN</td>\n",
       "      <td>0</td>\n",
       "      <td>NaN</td>\n",
       "      <td>항공 +코로나 -스포츠</td>\n",
       "      <td>급등주 - 대한항공우, 항공, 여행, 코로나, 실적, 주식투자, 삼성전자, 재테크,...</td>\n",
       "      <td>평택촌놈TV</td>\n",
       "      <td>https://www.youtube.com/watch?v=oxXiLA5IbeM</td>\n",
       "      <td>2022-11-04</td>\n",
       "    </tr>\n",
       "    <tr>\n",
       "      <th>434</th>\n",
       "      <td>5531</td>\n",
       "      <td>NaN</td>\n",
       "      <td>0</td>\n",
       "      <td>14.00000</td>\n",
       "      <td>항공 +코로나 -스포츠</td>\n",
       "      <td>코스모 스위트 2.0 체험기 l 코로나 뚫고 한국가요 🥺 대한항공 퍼스트 클래스 타...</td>\n",
       "      <td>jj l</td>\n",
       "      <td>https://www.youtube.com/watch?v=-bnoFLAs4zE</td>\n",
       "      <td>2020-08-30</td>\n",
       "    </tr>\n",
       "    <tr>\n",
       "      <th>487</th>\n",
       "      <td>11919</td>\n",
       "      <td>NaN</td>\n",
       "      <td>0</td>\n",
       "      <td>53.00000</td>\n",
       "      <td>항공 +코로나 -스포츠</td>\n",
       "      <td>괌일상 VLOG 🇺🇸🇬🇺 | 대한항공 일등석 타고 괌으로! 22개월 아기와 심장 쫄...</td>\n",
       "      <td>몽몽 mongmong</td>\n",
       "      <td>https://www.youtube.com/watch?v=0hFi0TPmCrE</td>\n",
       "      <td>2021-09-01</td>\n",
       "    </tr>\n",
       "    <tr>\n",
       "      <th>491</th>\n",
       "      <td>82</td>\n",
       "      <td>NaN</td>\n",
       "      <td>0</td>\n",
       "      <td>0.00000</td>\n",
       "      <td>항공 +코로나 -스포츠</td>\n",
       "      <td>대한항공 하나투어 모두투어 참좋은여행 이제는 위드코로나 #여행주 #metaverse...</td>\n",
       "      <td>JM TV</td>\n",
       "      <td>https://www.youtube.com/watch?v=qLo6dUM7rTE</td>\n",
       "      <td>2022-11-01</td>\n",
       "    </tr>\n",
       "    <tr>\n",
       "      <th>532</th>\n",
       "      <td>33</td>\n",
       "      <td>NaN</td>\n",
       "      <td>0</td>\n",
       "      <td>0.00000</td>\n",
       "      <td>항공 +코로나 -스포츠</td>\n",
       "      <td>[무료 급등주 주식 종목 추천] 12월 21일 무료추천주 내일 시초가 부터 10배 ...</td>\n",
       "      <td>차트마법사 - 주식영웅</td>\n",
       "      <td>https://www.youtube.com/watch?v=qJo1Fvg5CGs</td>\n",
       "      <td>2022-12-20</td>\n",
       "    </tr>\n",
       "    <tr>\n",
       "      <th>536</th>\n",
       "      <td>40</td>\n",
       "      <td>NaN</td>\n",
       "      <td>0</td>\n",
       "      <td>0.00000</td>\n",
       "      <td>항공 +코로나 -스포츠</td>\n",
       "      <td>[무료 급등주 주식 종목 추천] 12월 21일 무료추천주 내일 시초가 부터 무조건 ...</td>\n",
       "      <td>차트마법사 - 주식영웅</td>\n",
       "      <td>https://www.youtube.com/watch?v=33QbRwLD9eI</td>\n",
       "      <td>2022-12-20</td>\n",
       "    </tr>\n",
       "    <tr>\n",
       "      <th>542</th>\n",
       "      <td>42</td>\n",
       "      <td>NaN</td>\n",
       "      <td>0</td>\n",
       "      <td>0.00000</td>\n",
       "      <td>항공 +코로나 -스포츠</td>\n",
       "      <td>[무료주 급등주 무료추천주] 12월 23일 마감속보 급등예고 [샤페론] 위험합니다</td>\n",
       "      <td>MTNGOLD - 급등주 주포따라잡기</td>\n",
       "      <td>https://www.youtube.com/watch?v=ilzGutZ4THI</td>\n",
       "      <td>2022-12-23</td>\n",
       "    </tr>\n",
       "    <tr>\n",
       "      <th>552</th>\n",
       "      <td>12</td>\n",
       "      <td>NaN</td>\n",
       "      <td>0</td>\n",
       "      <td>0.00000</td>\n",
       "      <td>항공 +코로나 -스포츠</td>\n",
       "      <td>[무료주 급등주 무료추천주] 8일 급등예고 [청담글로벌] 잭팟터진다! 미리보세요!</td>\n",
       "      <td>MTNGOLD - 급등주 주포따라잡기</td>\n",
       "      <td>https://www.youtube.com/watch?v=kvhfmHC9iPE</td>\n",
       "      <td>2022-12-07</td>\n",
       "    </tr>\n",
       "    <tr>\n",
       "      <th>558</th>\n",
       "      <td>110</td>\n",
       "      <td>NaN</td>\n",
       "      <td>0</td>\n",
       "      <td>0.00000</td>\n",
       "      <td>항공 +코로나 -스포츠</td>\n",
       "      <td>[무료주 급등주 무료추천주] 12월 21일 급등예고 [케이카] 여기서 상승 나와요!</td>\n",
       "      <td>MTNGOLD - 급등주 주포따라잡기</td>\n",
       "      <td>https://www.youtube.com/watch?v=B1ApaCREANo</td>\n",
       "      <td>2022-12-20</td>\n",
       "    </tr>\n",
       "    <tr>\n",
       "      <th>590</th>\n",
       "      <td>30</td>\n",
       "      <td>NaN</td>\n",
       "      <td>0</td>\n",
       "      <td>0.00000</td>\n",
       "      <td>항공 +코로나 -스포츠</td>\n",
       "      <td>[무료주 급등주 무료추천주] 12월 29일 급등예고 [제주은행] 여기서 상승 나와요!</td>\n",
       "      <td>MTNGOLD - 급등주 주포따라잡기</td>\n",
       "      <td>https://www.youtube.com/watch?v=r0qjh0_vewQ</td>\n",
       "      <td>2022-12-28</td>\n",
       "    </tr>\n",
       "  </tbody>\n",
       "</table>\n",
       "</div>"
      ],
      "text/plain": [
       "     viewCount  likeCount  favoriteCount  commentCount           key  \\\n",
       "86        6070        NaN              0      21.00000  항공 +코로나 -스포츠   \n",
       "130       1113        NaN              0       0.00000  항공 +코로나 -스포츠   \n",
       "209        129        NaN              0       0.00000  항공 +코로나 -스포츠   \n",
       "268        570        NaN              0       0.00000  항공 +코로나 -스포츠   \n",
       "308        374        NaN              0           NaN  항공 +코로나 -스포츠   \n",
       "434       5531        NaN              0      14.00000  항공 +코로나 -스포츠   \n",
       "487      11919        NaN              0      53.00000  항공 +코로나 -스포츠   \n",
       "491         82        NaN              0       0.00000  항공 +코로나 -스포츠   \n",
       "532         33        NaN              0       0.00000  항공 +코로나 -스포츠   \n",
       "536         40        NaN              0       0.00000  항공 +코로나 -스포츠   \n",
       "542         42        NaN              0       0.00000  항공 +코로나 -스포츠   \n",
       "552         12        NaN              0       0.00000  항공 +코로나 -스포츠   \n",
       "558        110        NaN              0       0.00000  항공 +코로나 -스포츠   \n",
       "590         30        NaN              0       0.00000  항공 +코로나 -스포츠   \n",
       "\n",
       "                                                 title               channel  \\\n",
       "86                           대한민국공군의 코로나19 백신 첫 항공 수송!                대한민국공군   \n",
       "130  코로나 4차유행 확산…하반기 항공 업계는? #아시아나항공 #티웨이항공 #엄경아 연구...       토마토증권통 TomatoTV   \n",
       "209  [토마토TV 연결고리] 코로나에도 항공 부품기업은 가파른 경기 회복..국내 관련주는...       토마토증권통 TomatoTV   \n",
       "268                                  항공정비사의 포스트 코로나 준비            Jason Park   \n",
       "308  급등주 - 대한항공우, 항공, 여행, 코로나, 실적, 주식투자, 삼성전자, 재테크,...                평택촌놈TV   \n",
       "434  코스모 스위트 2.0 체험기 l 코로나 뚫고 한국가요 🥺 대한항공 퍼스트 클래스 타...                  jj l   \n",
       "487  괌일상 VLOG 🇺🇸🇬🇺 | 대한항공 일등석 타고 괌으로! 22개월 아기와 심장 쫄...           몽몽 mongmong   \n",
       "491  대한항공 하나투어 모두투어 참좋은여행 이제는 위드코로나 #여행주 #metaverse...                 JM TV   \n",
       "532  [무료 급등주 주식 종목 추천] 12월 21일 무료추천주 내일 시초가 부터 10배 ...          차트마법사 - 주식영웅   \n",
       "536  [무료 급등주 주식 종목 추천] 12월 21일 무료추천주 내일 시초가 부터 무조건 ...          차트마법사 - 주식영웅   \n",
       "542      [무료주 급등주 무료추천주] 12월 23일 마감속보 급등예고 [샤페론] 위험합니다  MTNGOLD - 급등주 주포따라잡기   \n",
       "552      [무료주 급등주 무료추천주] 8일 급등예고 [청담글로벌] 잭팟터진다! 미리보세요!  MTNGOLD - 급등주 주포따라잡기   \n",
       "558     [무료주 급등주 무료추천주] 12월 21일 급등예고 [케이카] 여기서 상승 나와요!  MTNGOLD - 급등주 주포따라잡기   \n",
       "590    [무료주 급등주 무료추천주] 12월 29일 급등예고 [제주은행] 여기서 상승 나와요!  MTNGOLD - 급등주 주포따라잡기   \n",
       "\n",
       "                                             url        date  \n",
       "86   https://www.youtube.com/watch?v=psdsNUKkDJI  2021-03-02  \n",
       "130  https://www.youtube.com/watch?v=Hi35kmEBGjw  2021-07-28  \n",
       "209  https://www.youtube.com/watch?v=7rYcSLxueRA  2021-08-13  \n",
       "268  https://www.youtube.com/watch?v=J-Jm2P22q30  2020-06-30  \n",
       "308  https://www.youtube.com/watch?v=oxXiLA5IbeM  2022-11-04  \n",
       "434  https://www.youtube.com/watch?v=-bnoFLAs4zE  2020-08-30  \n",
       "487  https://www.youtube.com/watch?v=0hFi0TPmCrE  2021-09-01  \n",
       "491  https://www.youtube.com/watch?v=qLo6dUM7rTE  2022-11-01  \n",
       "532  https://www.youtube.com/watch?v=qJo1Fvg5CGs  2022-12-20  \n",
       "536  https://www.youtube.com/watch?v=33QbRwLD9eI  2022-12-20  \n",
       "542  https://www.youtube.com/watch?v=ilzGutZ4THI  2022-12-23  \n",
       "552  https://www.youtube.com/watch?v=kvhfmHC9iPE  2022-12-07  \n",
       "558  https://www.youtube.com/watch?v=B1ApaCREANo  2022-12-20  \n",
       "590  https://www.youtube.com/watch?v=r0qjh0_vewQ  2022-12-28  "
      ]
     },
     "execution_count": 135,
     "metadata": {},
     "output_type": "execute_result"
    }
   ],
   "source": [
    "youtube[youtube['likeCount'].isnull()]\n",
    "# likeCount만 사용"
   ]
  },
  {
   "cell_type": "code",
   "execution_count": 136,
   "metadata": {},
   "outputs": [
    {
     "data": {
      "text/html": [
       "<div>\n",
       "<style scoped>\n",
       "    .dataframe tbody tr th:only-of-type {\n",
       "        vertical-align: middle;\n",
       "    }\n",
       "\n",
       "    .dataframe tbody tr th {\n",
       "        vertical-align: top;\n",
       "    }\n",
       "\n",
       "    .dataframe thead th {\n",
       "        text-align: right;\n",
       "    }\n",
       "</style>\n",
       "<table border=\"1\" class=\"dataframe\">\n",
       "  <thead>\n",
       "    <tr style=\"text-align: right;\">\n",
       "      <th></th>\n",
       "      <th>viewCount</th>\n",
       "      <th>likeCount</th>\n",
       "      <th>commentCount</th>\n",
       "      <th>key</th>\n",
       "      <th>title</th>\n",
       "      <th>channel</th>\n",
       "      <th>url</th>\n",
       "      <th>date</th>\n",
       "    </tr>\n",
       "  </thead>\n",
       "  <tbody>\n",
       "    <tr>\n",
       "      <th>0</th>\n",
       "      <td>4826</td>\n",
       "      <td>35.00000</td>\n",
       "      <td>17.00000</td>\n",
       "      <td>항공 +코로나 -스포츠</td>\n",
       "      <td>&amp;quot;다시 하늘 날고 싶어요&amp;quot;...코로나 1년 벼랑 끝 항공산업 / YTN</td>\n",
       "      <td>YTN</td>\n",
       "      <td>https://www.youtube.com/watch?v=L-0_i8hiZbY</td>\n",
       "      <td>2021-01-19</td>\n",
       "    </tr>\n",
       "  </tbody>\n",
       "</table>\n",
       "</div>"
      ],
      "text/plain": [
       "   viewCount  likeCount  commentCount           key  \\\n",
       "0       4826   35.00000      17.00000  항공 +코로나 -스포츠   \n",
       "\n",
       "                                               title channel  \\\n",
       "0  &quot;다시 하늘 날고 싶어요&quot;...코로나 1년 벼랑 끝 항공산업 / YTN     YTN   \n",
       "\n",
       "                                           url        date  \n",
       "0  https://www.youtube.com/watch?v=L-0_i8hiZbY  2021-01-19  "
      ]
     },
     "execution_count": 136,
     "metadata": {},
     "output_type": "execute_result"
    }
   ],
   "source": [
    "# favoriteCount 컬럼 drop\n",
    "youtube.drop('favoriteCount',axis=1,inplace=True)\n",
    "youtube.head(1)"
   ]
  },
  {
   "cell_type": "code",
   "execution_count": 137,
   "metadata": {
    "scrolled": false
   },
   "outputs": [
    {
     "data": {
      "text/html": [
       "<div>\n",
       "<style scoped>\n",
       "    .dataframe tbody tr th:only-of-type {\n",
       "        vertical-align: middle;\n",
       "    }\n",
       "\n",
       "    .dataframe tbody tr th {\n",
       "        vertical-align: top;\n",
       "    }\n",
       "\n",
       "    .dataframe thead th {\n",
       "        text-align: right;\n",
       "    }\n",
       "</style>\n",
       "<table border=\"1\" class=\"dataframe\">\n",
       "  <thead>\n",
       "    <tr style=\"text-align: right;\">\n",
       "      <th></th>\n",
       "      <th>viewCount</th>\n",
       "      <th>likeCount</th>\n",
       "      <th>commentCount</th>\n",
       "      <th>key</th>\n",
       "      <th>title</th>\n",
       "      <th>channel</th>\n",
       "      <th>url</th>\n",
       "      <th>date</th>\n",
       "    </tr>\n",
       "  </thead>\n",
       "  <tbody>\n",
       "    <tr>\n",
       "      <th>180</th>\n",
       "      <td>689</td>\n",
       "      <td>13.00000</td>\n",
       "      <td>NaN</td>\n",
       "      <td>항공 +코로나 -스포츠</td>\n",
       "      <td>대한항공(003490) 코로나 이후, 수혜 가능 커</td>\n",
       "      <td>토마토증권통 TomatoTV</td>\n",
       "      <td>https://www.youtube.com/watch?v=iZrbxQGuY4U</td>\n",
       "      <td>2020-11-17</td>\n",
       "    </tr>\n",
       "    <tr>\n",
       "      <th>256</th>\n",
       "      <td>8326</td>\n",
       "      <td>114.00000</td>\n",
       "      <td>NaN</td>\n",
       "      <td>항공 +코로나 -스포츠</td>\n",
       "      <td>[대한항공 뉴스룸] 우리는 &amp;#39;연결&amp;#39;합니다.</td>\n",
       "      <td>대한항공 뉴스룸</td>\n",
       "      <td>https://www.youtube.com/watch?v=eGllPlGBsw8</td>\n",
       "      <td>2020-05-19</td>\n",
       "    </tr>\n",
       "    <tr>\n",
       "      <th>297</th>\n",
       "      <td>6347</td>\n",
       "      <td>192.00000</td>\n",
       "      <td>NaN</td>\n",
       "      <td>항공 +코로나 -스포츠</td>\n",
       "      <td>[수익극대화 포트전략 이창원] 위드 코로나 대장 아시아나항공! 일진다이아 대응!</td>\n",
       "      <td>MBN골드</td>\n",
       "      <td>https://www.youtube.com/watch?v=qw2wMNB23e0</td>\n",
       "      <td>2021-08-24</td>\n",
       "    </tr>\n",
       "    <tr>\n",
       "      <th>300</th>\n",
       "      <td>6347</td>\n",
       "      <td>192.00000</td>\n",
       "      <td>NaN</td>\n",
       "      <td>항공 +코로나 -스포츠</td>\n",
       "      <td>[수익극대화 포트전략 이창원] 위드 코로나 대장 아시아나항공! 일진다이아 대응!</td>\n",
       "      <td>MBN골드</td>\n",
       "      <td>https://www.youtube.com/watch?v=qw2wMNB23e0</td>\n",
       "      <td>2021-08-24</td>\n",
       "    </tr>\n",
       "    <tr>\n",
       "      <th>308</th>\n",
       "      <td>374</td>\n",
       "      <td>NaN</td>\n",
       "      <td>NaN</td>\n",
       "      <td>항공 +코로나 -스포츠</td>\n",
       "      <td>급등주 - 대한항공우, 항공, 여행, 코로나, 실적, 주식투자, 삼성전자, 재테크,...</td>\n",
       "      <td>평택촌놈TV</td>\n",
       "      <td>https://www.youtube.com/watch?v=oxXiLA5IbeM</td>\n",
       "      <td>2022-11-04</td>\n",
       "    </tr>\n",
       "    <tr>\n",
       "      <th>414</th>\n",
       "      <td>430</td>\n",
       "      <td>27.00000</td>\n",
       "      <td>NaN</td>\n",
       "      <td>항공 +코로나 -스포츠</td>\n",
       "      <td>대한항공 / 파버나인 / 지니뮤직 / 마이크로디지탈 / 여행주 / 코로나 / 항공주...</td>\n",
       "      <td>오공주차트룸</td>\n",
       "      <td>https://www.youtube.com/watch?v=GPno_1I2AWA</td>\n",
       "      <td>2021-05-24</td>\n",
       "    </tr>\n",
       "    <tr>\n",
       "      <th>425</th>\n",
       "      <td>275</td>\n",
       "      <td>9.00000</td>\n",
       "      <td>NaN</td>\n",
       "      <td>항공 +코로나 -스포츠</td>\n",
       "      <td>[제주항공] 위드코로나 기대/항공주 기술적 반등!? 과감한 매도가 수익을 만든다</td>\n",
       "      <td>영스톡</td>\n",
       "      <td>https://www.youtube.com/watch?v=bbUu_37RYTY</td>\n",
       "      <td>2022-02-08</td>\n",
       "    </tr>\n",
       "    <tr>\n",
       "      <th>446</th>\n",
       "      <td>1114</td>\n",
       "      <td>44.00000</td>\n",
       "      <td>NaN</td>\n",
       "      <td>항공 +코로나 -스포츠</td>\n",
       "      <td>한국공항 코로나 백신효과로 항공지상 조업수요 회복 및 대한항공 아시아나항공 합병 효...</td>\n",
       "      <td>태린이아빠</td>\n",
       "      <td>https://www.youtube.com/watch?v=7KorBKBweDA</td>\n",
       "      <td>2021-06-01</td>\n",
       "    </tr>\n",
       "    <tr>\n",
       "      <th>478</th>\n",
       "      <td>256</td>\n",
       "      <td>8.00000</td>\n",
       "      <td>NaN</td>\n",
       "      <td>항공 +코로나 -스포츠</td>\n",
       "      <td>[대한항공 주가] 위드코로나 대장주 자리매김, 탄소중립 항공유 도입 긍정적 #대한항...</td>\n",
       "      <td>더블유경제TV</td>\n",
       "      <td>https://www.youtube.com/watch?v=ysbyDwjFtZo</td>\n",
       "      <td>2021-09-14</td>\n",
       "    </tr>\n",
       "    <tr>\n",
       "      <th>496</th>\n",
       "      <td>48605</td>\n",
       "      <td>1183.00000</td>\n",
       "      <td>NaN</td>\n",
       "      <td>항공 +코로나 -스포츠</td>\n",
       "      <td>베트남 코로나 확진자 85명 이제는 걷잡을수 없나?베트남 항공은 왜 환불 안해줘?(...</td>\n",
       "      <td>CONG TUBE 2020</td>\n",
       "      <td>https://www.youtube.com/watch?v=2EGHXzla90w</td>\n",
       "      <td>2020-03-20</td>\n",
       "    </tr>\n",
       "  </tbody>\n",
       "</table>\n",
       "</div>"
      ],
      "text/plain": [
       "     viewCount  likeCount  commentCount           key  \\\n",
       "180        689   13.00000           NaN  항공 +코로나 -스포츠   \n",
       "256       8326  114.00000           NaN  항공 +코로나 -스포츠   \n",
       "297       6347  192.00000           NaN  항공 +코로나 -스포츠   \n",
       "300       6347  192.00000           NaN  항공 +코로나 -스포츠   \n",
       "308        374        NaN           NaN  항공 +코로나 -스포츠   \n",
       "414        430   27.00000           NaN  항공 +코로나 -스포츠   \n",
       "425        275    9.00000           NaN  항공 +코로나 -스포츠   \n",
       "446       1114   44.00000           NaN  항공 +코로나 -스포츠   \n",
       "478        256    8.00000           NaN  항공 +코로나 -스포츠   \n",
       "496      48605 1183.00000           NaN  항공 +코로나 -스포츠   \n",
       "\n",
       "                                                 title          channel  \\\n",
       "180                       대한항공(003490) 코로나 이후, 수혜 가능 커  토마토증권통 TomatoTV   \n",
       "256                    [대한항공 뉴스룸] 우리는 &#39;연결&#39;합니다.         대한항공 뉴스룸   \n",
       "297       [수익극대화 포트전략 이창원] 위드 코로나 대장 아시아나항공! 일진다이아 대응!            MBN골드   \n",
       "300       [수익극대화 포트전략 이창원] 위드 코로나 대장 아시아나항공! 일진다이아 대응!            MBN골드   \n",
       "308  급등주 - 대한항공우, 항공, 여행, 코로나, 실적, 주식투자, 삼성전자, 재테크,...           평택촌놈TV   \n",
       "414  대한항공 / 파버나인 / 지니뮤직 / 마이크로디지탈 / 여행주 / 코로나 / 항공주...           오공주차트룸   \n",
       "425       [제주항공] 위드코로나 기대/항공주 기술적 반등!? 과감한 매도가 수익을 만든다              영스톡   \n",
       "446  한국공항 코로나 백신효과로 항공지상 조업수요 회복 및 대한항공 아시아나항공 합병 효...            태린이아빠   \n",
       "478  [대한항공 주가] 위드코로나 대장주 자리매김, 탄소중립 항공유 도입 긍정적 #대한항...          더블유경제TV   \n",
       "496  베트남 코로나 확진자 85명 이제는 걷잡을수 없나?베트남 항공은 왜 환불 안해줘?(...   CONG TUBE 2020   \n",
       "\n",
       "                                             url        date  \n",
       "180  https://www.youtube.com/watch?v=iZrbxQGuY4U  2020-11-17  \n",
       "256  https://www.youtube.com/watch?v=eGllPlGBsw8  2020-05-19  \n",
       "297  https://www.youtube.com/watch?v=qw2wMNB23e0  2021-08-24  \n",
       "300  https://www.youtube.com/watch?v=qw2wMNB23e0  2021-08-24  \n",
       "308  https://www.youtube.com/watch?v=oxXiLA5IbeM  2022-11-04  \n",
       "414  https://www.youtube.com/watch?v=GPno_1I2AWA  2021-05-24  \n",
       "425  https://www.youtube.com/watch?v=bbUu_37RYTY  2022-02-08  \n",
       "446  https://www.youtube.com/watch?v=7KorBKBweDA  2021-06-01  \n",
       "478  https://www.youtube.com/watch?v=ysbyDwjFtZo  2021-09-14  \n",
       "496  https://www.youtube.com/watch?v=2EGHXzla90w  2020-03-20  "
      ]
     },
     "execution_count": 137,
     "metadata": {},
     "output_type": "execute_result"
    }
   ],
   "source": [
    "youtube[youtube['commentCount'].isnull()]\n",
    "# 대부분 댓글 사용 중지된 영상 - 0개로 처리"
   ]
  },
  {
   "cell_type": "code",
   "execution_count": 138,
   "metadata": {},
   "outputs": [
    {
     "data": {
      "text/html": [
       "<div>\n",
       "<style scoped>\n",
       "    .dataframe tbody tr th:only-of-type {\n",
       "        vertical-align: middle;\n",
       "    }\n",
       "\n",
       "    .dataframe tbody tr th {\n",
       "        vertical-align: top;\n",
       "    }\n",
       "\n",
       "    .dataframe thead th {\n",
       "        text-align: right;\n",
       "    }\n",
       "</style>\n",
       "<table border=\"1\" class=\"dataframe\">\n",
       "  <thead>\n",
       "    <tr style=\"text-align: right;\">\n",
       "      <th></th>\n",
       "      <th>viewCount</th>\n",
       "      <th>likeCount</th>\n",
       "      <th>commentCount</th>\n",
       "      <th>key</th>\n",
       "      <th>title</th>\n",
       "      <th>channel</th>\n",
       "      <th>url</th>\n",
       "      <th>date</th>\n",
       "    </tr>\n",
       "  </thead>\n",
       "  <tbody>\n",
       "  </tbody>\n",
       "</table>\n",
       "</div>"
      ],
      "text/plain": [
       "Empty DataFrame\n",
       "Columns: [viewCount, likeCount, commentCount, key, title, channel, url, date]\n",
       "Index: []"
      ]
     },
     "execution_count": 138,
     "metadata": {},
     "output_type": "execute_result"
    }
   ],
   "source": [
    "youtube = youtube.fillna(0)\n",
    "youtube[youtube['commentCount'].isnull()] # 결측치 - 0으로 대체"
   ]
  },
  {
   "cell_type": "code",
   "execution_count": 139,
   "metadata": {},
   "outputs": [],
   "source": [
    "youtube['date'] = pd.to_datetime(youtube['date'])"
   ]
  },
  {
   "cell_type": "code",
   "execution_count": 141,
   "metadata": {},
   "outputs": [
    {
     "data": {
      "text/html": [
       "<div>\n",
       "<style scoped>\n",
       "    .dataframe tbody tr th:only-of-type {\n",
       "        vertical-align: middle;\n",
       "    }\n",
       "\n",
       "    .dataframe tbody tr th {\n",
       "        vertical-align: top;\n",
       "    }\n",
       "\n",
       "    .dataframe thead th {\n",
       "        text-align: right;\n",
       "    }\n",
       "</style>\n",
       "<table border=\"1\" class=\"dataframe\">\n",
       "  <thead>\n",
       "    <tr style=\"text-align: right;\">\n",
       "      <th></th>\n",
       "      <th>viewCount</th>\n",
       "      <th>likeCount</th>\n",
       "      <th>commentCount</th>\n",
       "      <th>num_video</th>\n",
       "    </tr>\n",
       "    <tr>\n",
       "      <th>date</th>\n",
       "      <th></th>\n",
       "      <th></th>\n",
       "      <th></th>\n",
       "      <th></th>\n",
       "    </tr>\n",
       "  </thead>\n",
       "  <tbody>\n",
       "    <tr>\n",
       "      <th>2020-01-22</th>\n",
       "      <td>854</td>\n",
       "      <td>4.00000</td>\n",
       "      <td>5.00000</td>\n",
       "      <td>1</td>\n",
       "    </tr>\n",
       "    <tr>\n",
       "      <th>2020-01-29</th>\n",
       "      <td>90</td>\n",
       "      <td>3.00000</td>\n",
       "      <td>0.00000</td>\n",
       "      <td>1</td>\n",
       "    </tr>\n",
       "    <tr>\n",
       "      <th>2020-02-01</th>\n",
       "      <td>1144</td>\n",
       "      <td>12.00000</td>\n",
       "      <td>4.00000</td>\n",
       "      <td>2</td>\n",
       "    </tr>\n",
       "  </tbody>\n",
       "</table>\n",
       "</div>"
      ],
      "text/plain": [
       "            viewCount  likeCount  commentCount  num_video\n",
       "date                                                     \n",
       "2020-01-22        854    4.00000       5.00000          1\n",
       "2020-01-29         90    3.00000       0.00000          1\n",
       "2020-02-01       1144   12.00000       4.00000          2"
      ]
     },
     "execution_count": 141,
     "metadata": {},
     "output_type": "execute_result"
    }
   ],
   "source": [
    "# 일자별로 그룹화\n",
    "youtube_date = youtube.groupby(by='date').sum()\n",
    "youtube_date['num_video'] = youtube.groupby(by='date').size()\n",
    "youtube_date.head(3)"
   ]
  },
  {
   "cell_type": "code",
   "execution_count": 143,
   "metadata": {
    "scrolled": false
   },
   "outputs": [
    {
     "data": {
      "image/png": "[encoded data removed]",
      "text/plain": [
       "<Figure size 1440x360 with 1 Axes>"
      ]
     },
     "metadata": {
      "needs_background": "light"
     },
     "output_type": "display_data"
    }
   ],
   "source": [
    "plt.figure(figsize=(20,5))\n",
    "plt.plot(youtube_date['num_video'])\n",
    "plt.show()"
   ]
  },
  {
   "cell_type": "code",
   "execution_count": 144,
   "metadata": {
    "scrolled": false
   },
   "outputs": [
    {
     "data": {
      "image/png": "[encoded data removed]",
      "text/plain": [
       "<Figure size 1440x360 with 1 Axes>"
      ]
     },
     "metadata": {
      "needs_background": "light"
     },
     "output_type": "display_data"
    }
   ],
   "source": [
    "plt.figure(figsize=(20,5))\n",
    "plt.plot(youtube_date['likeCount'])\n",
    "plt.show()"
   ]
  },
  {
   "cell_type": "markdown",
   "metadata": {},
   "source": [
    "### 유튜브 데이터 결측치 보간"
   ]
  },
  {
   "cell_type": "markdown",
   "metadata": {},
   "source": [
    "- 주가 데이터를 기준으로 유튜브 데이터가 없는 날짜는 사람들의 관심도가 영상이 올라온 이후로 점차 선형적으로 증감한다고 가정하여 선형 보간법을 활용해 결측치 보간"
   ]
  },
  {
   "cell_type": "code",
   "execution_count": 145,
   "metadata": {},
   "outputs": [],
   "source": [
    "import scipy.interpolate as spi"
   ]
  },
  {
   "cell_type": "code",
   "execution_count": 146,
   "metadata": {
    "scrolled": false
   },
   "outputs": [
    {
     "data": {
      "text/plain": [
       "410"
      ]
     },
     "execution_count": 146,
     "metadata": {},
     "output_type": "execute_result"
    }
   ],
   "source": [
    "len(youtube_date) # 406일치 데이터"
   ]
  },
  {
   "cell_type": "code",
   "execution_count": 147,
   "metadata": {
    "scrolled": false
   },
   "outputs": [
    {
     "data": {
      "text/plain": [
       "742"
      ]
     },
     "execution_count": 147,
     "metadata": {},
     "output_type": "execute_result"
    }
   ],
   "source": [
    "len(stock_close) # 742일치 데이터"
   ]
  },
  {
   "cell_type": "code",
   "execution_count": 148,
   "metadata": {
    "scrolled": true
   },
   "outputs": [
    {
     "data": {
      "text/html": [
       "<div>\n",
       "<style scoped>\n",
       "    .dataframe tbody tr th:only-of-type {\n",
       "        vertical-align: middle;\n",
       "    }\n",
       "\n",
       "    .dataframe tbody tr th {\n",
       "        vertical-align: top;\n",
       "    }\n",
       "\n",
       "    .dataframe thead th {\n",
       "        text-align: right;\n",
       "    }\n",
       "</style>\n",
       "<table border=\"1\" class=\"dataframe\">\n",
       "  <thead>\n",
       "    <tr style=\"text-align: right;\">\n",
       "      <th></th>\n",
       "      <th>date</th>\n",
       "      <th>viewCount</th>\n",
       "      <th>likeCount</th>\n",
       "      <th>commentCount</th>\n",
       "      <th>num_video</th>\n",
       "    </tr>\n",
       "  </thead>\n",
       "  <tbody>\n",
       "    <tr>\n",
       "      <th>0</th>\n",
       "      <td>2020-01-22</td>\n",
       "      <td>854</td>\n",
       "      <td>4.00000</td>\n",
       "      <td>5.00000</td>\n",
       "      <td>1</td>\n",
       "    </tr>\n",
       "    <tr>\n",
       "      <th>1</th>\n",
       "      <td>2020-01-29</td>\n",
       "      <td>90</td>\n",
       "      <td>3.00000</td>\n",
       "      <td>0.00000</td>\n",
       "      <td>1</td>\n",
       "    </tr>\n",
       "    <tr>\n",
       "      <th>2</th>\n",
       "      <td>2020-02-01</td>\n",
       "      <td>1144</td>\n",
       "      <td>12.00000</td>\n",
       "      <td>4.00000</td>\n",
       "      <td>2</td>\n",
       "    </tr>\n",
       "    <tr>\n",
       "      <th>3</th>\n",
       "      <td>2020-02-04</td>\n",
       "      <td>236</td>\n",
       "      <td>0.00000</td>\n",
       "      <td>0.00000</td>\n",
       "      <td>1</td>\n",
       "    </tr>\n",
       "    <tr>\n",
       "      <th>4</th>\n",
       "      <td>2020-02-06</td>\n",
       "      <td>239</td>\n",
       "      <td>0.00000</td>\n",
       "      <td>0.00000</td>\n",
       "      <td>1</td>\n",
       "    </tr>\n",
       "    <tr>\n",
       "      <th>...</th>\n",
       "      <td>...</td>\n",
       "      <td>...</td>\n",
       "      <td>...</td>\n",
       "      <td>...</td>\n",
       "      <td>...</td>\n",
       "    </tr>\n",
       "    <tr>\n",
       "      <th>405</th>\n",
       "      <td>2022-12-26</td>\n",
       "      <td>225</td>\n",
       "      <td>4.00000</td>\n",
       "      <td>0.00000</td>\n",
       "      <td>1</td>\n",
       "    </tr>\n",
       "    <tr>\n",
       "      <th>406</th>\n",
       "      <td>2022-12-28</td>\n",
       "      <td>30</td>\n",
       "      <td>0.00000</td>\n",
       "      <td>0.00000</td>\n",
       "      <td>1</td>\n",
       "    </tr>\n",
       "    <tr>\n",
       "      <th>407</th>\n",
       "      <td>2022-12-29</td>\n",
       "      <td>513123</td>\n",
       "      <td>2591.00000</td>\n",
       "      <td>1615.00000</td>\n",
       "      <td>1</td>\n",
       "    </tr>\n",
       "    <tr>\n",
       "      <th>408</th>\n",
       "      <td>2023-01-31</td>\n",
       "      <td>765</td>\n",
       "      <td>47.00000</td>\n",
       "      <td>3.00000</td>\n",
       "      <td>1</td>\n",
       "    </tr>\n",
       "    <tr>\n",
       "      <th>409</th>\n",
       "      <td>2023-02-03</td>\n",
       "      <td>2386</td>\n",
       "      <td>18.00000</td>\n",
       "      <td>33.00000</td>\n",
       "      <td>1</td>\n",
       "    </tr>\n",
       "  </tbody>\n",
       "</table>\n",
       "<p>410 rows × 5 columns</p>\n",
       "</div>"
      ],
      "text/plain": [
       "          date  viewCount  likeCount  commentCount  num_video\n",
       "0   2020-01-22        854    4.00000       5.00000          1\n",
       "1   2020-01-29         90    3.00000       0.00000          1\n",
       "2   2020-02-01       1144   12.00000       4.00000          2\n",
       "3   2020-02-04        236    0.00000       0.00000          1\n",
       "4   2020-02-06        239    0.00000       0.00000          1\n",
       "..         ...        ...        ...           ...        ...\n",
       "405 2022-12-26        225    4.00000       0.00000          1\n",
       "406 2022-12-28         30    0.00000       0.00000          1\n",
       "407 2022-12-29     513123 2591.00000    1615.00000          1\n",
       "408 2023-01-31        765   47.00000       3.00000          1\n",
       "409 2023-02-03       2386   18.00000      33.00000          1\n",
       "\n",
       "[410 rows x 5 columns]"
      ]
     },
     "execution_count": 148,
     "metadata": {},
     "output_type": "execute_result"
    }
   ],
   "source": [
    "youtube_date = youtube_date.reset_index()\n",
    "youtube_date"
   ]
  },
  {
   "cell_type": "code",
   "execution_count": 149,
   "metadata": {},
   "outputs": [],
   "source": [
    "youtube_date.rename(columns={'date':'Date'}, inplace=True)"
   ]
  },
  {
   "cell_type": "code",
   "execution_count": 150,
   "metadata": {
    "scrolled": true
   },
   "outputs": [],
   "source": [
    "stock_close = stock_close.reset_index() # 데이터 병합을 위해 날짜 데이터 열로 만들기"
   ]
  },
  {
   "cell_type": "code",
   "execution_count": 151,
   "metadata": {
    "scrolled": true
   },
   "outputs": [
    {
     "data": {
      "text/html": [
       "<div>\n",
       "<style scoped>\n",
       "    .dataframe tbody tr th:only-of-type {\n",
       "        vertical-align: middle;\n",
       "    }\n",
       "\n",
       "    .dataframe tbody tr th {\n",
       "        vertical-align: top;\n",
       "    }\n",
       "\n",
       "    .dataframe thead th {\n",
       "        text-align: right;\n",
       "    }\n",
       "</style>\n",
       "<table border=\"1\" class=\"dataframe\">\n",
       "  <thead>\n",
       "    <tr style=\"text-align: right;\">\n",
       "      <th></th>\n",
       "      <th>Date</th>\n",
       "      <th>viewCount</th>\n",
       "      <th>likeCount</th>\n",
       "      <th>commentCount</th>\n",
       "      <th>num_video</th>\n",
       "    </tr>\n",
       "  </thead>\n",
       "  <tbody>\n",
       "    <tr>\n",
       "      <th>0</th>\n",
       "      <td>2020-01-02</td>\n",
       "      <td>NaN</td>\n",
       "      <td>NaN</td>\n",
       "      <td>NaN</td>\n",
       "      <td>NaN</td>\n",
       "    </tr>\n",
       "    <tr>\n",
       "      <th>1</th>\n",
       "      <td>2020-01-03</td>\n",
       "      <td>NaN</td>\n",
       "      <td>NaN</td>\n",
       "      <td>NaN</td>\n",
       "      <td>NaN</td>\n",
       "    </tr>\n",
       "    <tr>\n",
       "      <th>2</th>\n",
       "      <td>2020-01-06</td>\n",
       "      <td>NaN</td>\n",
       "      <td>NaN</td>\n",
       "      <td>NaN</td>\n",
       "      <td>NaN</td>\n",
       "    </tr>\n",
       "  </tbody>\n",
       "</table>\n",
       "</div>"
      ],
      "text/plain": [
       "        Date  viewCount  likeCount  commentCount  num_video\n",
       "0 2020-01-02        NaN        NaN           NaN        NaN\n",
       "1 2020-01-03        NaN        NaN           NaN        NaN\n",
       "2 2020-01-06        NaN        NaN           NaN        NaN"
      ]
     },
     "execution_count": 151,
     "metadata": {},
     "output_type": "execute_result"
    }
   ],
   "source": [
    "youtube_null = pd.merge(left=stock_close, right=youtube_date, how='left')[['Date','viewCount','likeCount','commentCount','num_video']]\n",
    "youtube_null.head(3)"
   ]
  },
  {
   "cell_type": "code",
   "execution_count": 152,
   "metadata": {},
   "outputs": [
    {
     "data": {
      "text/html": [
       "<div>\n",
       "<style scoped>\n",
       "    .dataframe tbody tr th:only-of-type {\n",
       "        vertical-align: middle;\n",
       "    }\n",
       "\n",
       "    .dataframe tbody tr th {\n",
       "        vertical-align: top;\n",
       "    }\n",
       "\n",
       "    .dataframe thead th {\n",
       "        text-align: right;\n",
       "    }\n",
       "</style>\n",
       "<table border=\"1\" class=\"dataframe\">\n",
       "  <thead>\n",
       "    <tr style=\"text-align: right;\">\n",
       "      <th></th>\n",
       "      <th>Date</th>\n",
       "      <th>viewCount</th>\n",
       "      <th>likeCount</th>\n",
       "      <th>commentCount</th>\n",
       "      <th>num_video</th>\n",
       "    </tr>\n",
       "  </thead>\n",
       "  <tbody>\n",
       "    <tr>\n",
       "      <th>23</th>\n",
       "      <td>2020-02-06</td>\n",
       "      <td>239.00000</td>\n",
       "      <td>0.00000</td>\n",
       "      <td>0.00000</td>\n",
       "      <td>1.00000</td>\n",
       "    </tr>\n",
       "    <tr>\n",
       "      <th>24</th>\n",
       "      <td>2020-02-07</td>\n",
       "      <td>NaN</td>\n",
       "      <td>NaN</td>\n",
       "      <td>NaN</td>\n",
       "      <td>NaN</td>\n",
       "    </tr>\n",
       "    <tr>\n",
       "      <th>25</th>\n",
       "      <td>2020-02-10</td>\n",
       "      <td>7350.00000</td>\n",
       "      <td>87.00000</td>\n",
       "      <td>6.00000</td>\n",
       "      <td>5.00000</td>\n",
       "    </tr>\n",
       "    <tr>\n",
       "      <th>26</th>\n",
       "      <td>2020-02-11</td>\n",
       "      <td>NaN</td>\n",
       "      <td>NaN</td>\n",
       "      <td>NaN</td>\n",
       "      <td>NaN</td>\n",
       "    </tr>\n",
       "    <tr>\n",
       "      <th>27</th>\n",
       "      <td>2020-02-12</td>\n",
       "      <td>138.00000</td>\n",
       "      <td>3.00000</td>\n",
       "      <td>0.00000</td>\n",
       "      <td>2.00000</td>\n",
       "    </tr>\n",
       "    <tr>\n",
       "      <th>28</th>\n",
       "      <td>2020-02-13</td>\n",
       "      <td>714.00000</td>\n",
       "      <td>3.00000</td>\n",
       "      <td>6.00000</td>\n",
       "      <td>1.00000</td>\n",
       "    </tr>\n",
       "    <tr>\n",
       "      <th>29</th>\n",
       "      <td>2020-02-14</td>\n",
       "      <td>2905.00000</td>\n",
       "      <td>34.00000</td>\n",
       "      <td>18.00000</td>\n",
       "      <td>1.00000</td>\n",
       "    </tr>\n",
       "  </tbody>\n",
       "</table>\n",
       "</div>"
      ],
      "text/plain": [
       "         Date  viewCount  likeCount  commentCount  num_video\n",
       "23 2020-02-06  239.00000    0.00000       0.00000    1.00000\n",
       "24 2020-02-07        NaN        NaN           NaN        NaN\n",
       "25 2020-02-10 7350.00000   87.00000       6.00000    5.00000\n",
       "26 2020-02-11        NaN        NaN           NaN        NaN\n",
       "27 2020-02-12  138.00000    3.00000       0.00000    2.00000\n",
       "28 2020-02-13  714.00000    3.00000       6.00000    1.00000\n",
       "29 2020-02-14 2905.00000   34.00000      18.00000    1.00000"
      ]
     },
     "execution_count": 152,
     "metadata": {},
     "output_type": "execute_result"
    }
   ],
   "source": [
    "youtube_null[23:30]"
   ]
  },
  {
   "cell_type": "code",
   "execution_count": 153,
   "metadata": {
    "scrolled": true
   },
   "outputs": [
    {
     "data": {
      "text/html": [
       "<div>\n",
       "<style scoped>\n",
       "    .dataframe tbody tr th:only-of-type {\n",
       "        vertical-align: middle;\n",
       "    }\n",
       "\n",
       "    .dataframe tbody tr th {\n",
       "        vertical-align: top;\n",
       "    }\n",
       "\n",
       "    .dataframe thead th {\n",
       "        text-align: right;\n",
       "    }\n",
       "</style>\n",
       "<table border=\"1\" class=\"dataframe\">\n",
       "  <thead>\n",
       "    <tr style=\"text-align: right;\">\n",
       "      <th></th>\n",
       "      <th>Date</th>\n",
       "      <th>viewCount</th>\n",
       "      <th>likeCount</th>\n",
       "      <th>commentCount</th>\n",
       "      <th>num_video</th>\n",
       "    </tr>\n",
       "  </thead>\n",
       "  <tbody>\n",
       "    <tr>\n",
       "      <th>23</th>\n",
       "      <td>2020-02-06</td>\n",
       "      <td>239.00000</td>\n",
       "      <td>0.00000</td>\n",
       "      <td>0.00000</td>\n",
       "      <td>1.00000</td>\n",
       "    </tr>\n",
       "    <tr>\n",
       "      <th>24</th>\n",
       "      <td>2020-02-07</td>\n",
       "      <td>3794.50000</td>\n",
       "      <td>43.50000</td>\n",
       "      <td>3.00000</td>\n",
       "      <td>3.00000</td>\n",
       "    </tr>\n",
       "    <tr>\n",
       "      <th>25</th>\n",
       "      <td>2020-02-10</td>\n",
       "      <td>7350.00000</td>\n",
       "      <td>87.00000</td>\n",
       "      <td>6.00000</td>\n",
       "      <td>5.00000</td>\n",
       "    </tr>\n",
       "    <tr>\n",
       "      <th>26</th>\n",
       "      <td>2020-02-11</td>\n",
       "      <td>3744.00000</td>\n",
       "      <td>45.00000</td>\n",
       "      <td>3.00000</td>\n",
       "      <td>3.50000</td>\n",
       "    </tr>\n",
       "    <tr>\n",
       "      <th>27</th>\n",
       "      <td>2020-02-12</td>\n",
       "      <td>138.00000</td>\n",
       "      <td>3.00000</td>\n",
       "      <td>0.00000</td>\n",
       "      <td>2.00000</td>\n",
       "    </tr>\n",
       "    <tr>\n",
       "      <th>28</th>\n",
       "      <td>2020-02-13</td>\n",
       "      <td>714.00000</td>\n",
       "      <td>3.00000</td>\n",
       "      <td>6.00000</td>\n",
       "      <td>1.00000</td>\n",
       "    </tr>\n",
       "    <tr>\n",
       "      <th>29</th>\n",
       "      <td>2020-02-14</td>\n",
       "      <td>2905.00000</td>\n",
       "      <td>34.00000</td>\n",
       "      <td>18.00000</td>\n",
       "      <td>1.00000</td>\n",
       "    </tr>\n",
       "  </tbody>\n",
       "</table>\n",
       "</div>"
      ],
      "text/plain": [
       "         Date  viewCount  likeCount  commentCount  num_video\n",
       "23 2020-02-06  239.00000    0.00000       0.00000    1.00000\n",
       "24 2020-02-07 3794.50000   43.50000       3.00000    3.00000\n",
       "25 2020-02-10 7350.00000   87.00000       6.00000    5.00000\n",
       "26 2020-02-11 3744.00000   45.00000       3.00000    3.50000\n",
       "27 2020-02-12  138.00000    3.00000       0.00000    2.00000\n",
       "28 2020-02-13  714.00000    3.00000       6.00000    1.00000\n",
       "29 2020-02-14 2905.00000   34.00000      18.00000    1.00000"
      ]
     },
     "execution_count": 153,
     "metadata": {},
     "output_type": "execute_result"
    }
   ],
   "source": [
    "youtube_linear = youtube_null.interpolate()\n",
    "youtube_linear[23:30] # 위 데이터와 비교했을 때 결측치가 평균값으로 채워진 것을 확인할 수 있음"
   ]
  },
  {
   "cell_type": "code",
   "execution_count": 154,
   "metadata": {},
   "outputs": [
    {
     "data": {
      "text/plain": [
       "742"
      ]
     },
     "execution_count": 154,
     "metadata": {},
     "output_type": "execute_result"
    }
   ],
   "source": [
    "len(youtube_linear)"
   ]
  },
  {
   "cell_type": "code",
   "execution_count": 155,
   "metadata": {
    "scrolled": false
   },
   "outputs": [
    {
     "data": {
      "text/plain": [
       "728"
      ]
     },
     "execution_count": 155,
     "metadata": {},
     "output_type": "execute_result"
    }
   ],
   "source": [
    "# 초기 데이터는 이전 데이터가 존재하지 않아 결측치 보간이 어렵기 때문에 제거하기로 함\n",
    "youtube_linear = youtube_linear.dropna()\n",
    "len(youtube_linear) # 24개 제거"
   ]
  },
  {
   "cell_type": "markdown",
   "metadata": {},
   "source": [
    "### 최종 데이터"
   ]
  },
  {
   "cell_type": "markdown",
   "metadata": {},
   "source": [
    "- 상관성 분석을 위해 주가 데이터와 유튜브 데이터 병합\n",
    "- 유튜브 데이터의 경우 조회수,좋아요수,댓글수를 모두 합해 youtube_performance 변수 생성"
   ]
  },
  {
   "cell_type": "code",
   "execution_count": 156,
   "metadata": {},
   "outputs": [],
   "source": [
    "youtube_linear['youtube_performance'] = youtube_linear.viewCount + youtube_linear.likeCount + youtube_linear.commentCount\n",
    "youtube_linear = youtube_linear.drop(['viewCount','likeCount','commentCount'], axis=1)"
   ]
  },
  {
   "cell_type": "code",
   "execution_count": 159,
   "metadata": {},
   "outputs": [
    {
     "data": {
      "text/html": [
       "<div>\n",
       "<style scoped>\n",
       "    .dataframe tbody tr th:only-of-type {\n",
       "        vertical-align: middle;\n",
       "    }\n",
       "\n",
       "    .dataframe tbody tr th {\n",
       "        vertical-align: top;\n",
       "    }\n",
       "\n",
       "    .dataframe thead th {\n",
       "        text-align: right;\n",
       "    }\n",
       "</style>\n",
       "<table border=\"1\" class=\"dataframe\">\n",
       "  <thead>\n",
       "    <tr style=\"text-align: right;\">\n",
       "      <th></th>\n",
       "      <th>Date</th>\n",
       "      <th>num_video</th>\n",
       "      <th>youtube_performance</th>\n",
       "    </tr>\n",
       "  </thead>\n",
       "  <tbody>\n",
       "    <tr>\n",
       "      <th>14</th>\n",
       "      <td>2020-01-22</td>\n",
       "      <td>1.00000</td>\n",
       "      <td>863.00000</td>\n",
       "    </tr>\n",
       "    <tr>\n",
       "      <th>15</th>\n",
       "      <td>2020-01-23</td>\n",
       "      <td>1.00000</td>\n",
       "      <td>606.33333</td>\n",
       "    </tr>\n",
       "    <tr>\n",
       "      <th>16</th>\n",
       "      <td>2020-01-28</td>\n",
       "      <td>1.00000</td>\n",
       "      <td>349.66667</td>\n",
       "    </tr>\n",
       "  </tbody>\n",
       "</table>\n",
       "</div>"
      ],
      "text/plain": [
       "         Date  num_video  youtube_performance\n",
       "14 2020-01-22    1.00000            863.00000\n",
       "15 2020-01-23    1.00000            606.33333\n",
       "16 2020-01-28    1.00000            349.66667"
      ]
     },
     "execution_count": 159,
     "metadata": {},
     "output_type": "execute_result"
    }
   ],
   "source": [
    "youtube_linear.head(3)"
   ]
  },
  {
   "cell_type": "code",
   "execution_count": 163,
   "metadata": {
    "scrolled": true
   },
   "outputs": [
    {
     "data": {
      "text/html": [
       "<div>\n",
       "<style scoped>\n",
       "    .dataframe tbody tr th:only-of-type {\n",
       "        vertical-align: middle;\n",
       "    }\n",
       "\n",
       "    .dataframe tbody tr th {\n",
       "        vertical-align: top;\n",
       "    }\n",
       "\n",
       "    .dataframe thead th {\n",
       "        text-align: right;\n",
       "    }\n",
       "</style>\n",
       "<table border=\"1\" class=\"dataframe\">\n",
       "  <thead>\n",
       "    <tr style=\"text-align: right;\">\n",
       "      <th></th>\n",
       "      <th>Date</th>\n",
       "      <th>대한항공</th>\n",
       "      <th>제주항공</th>\n",
       "      <th>진에어</th>\n",
       "      <th>에어부산</th>\n",
       "      <th>num_video</th>\n",
       "      <th>youtube_performance</th>\n",
       "    </tr>\n",
       "  </thead>\n",
       "  <tbody>\n",
       "    <tr>\n",
       "      <th>0</th>\n",
       "      <td>2020-01-22</td>\n",
       "      <td>0.01339</td>\n",
       "      <td>-0.01235</td>\n",
       "      <td>-0.00328</td>\n",
       "      <td>-0.00537</td>\n",
       "      <td>1.00000</td>\n",
       "      <td>863.00000</td>\n",
       "    </tr>\n",
       "    <tr>\n",
       "      <th>1</th>\n",
       "      <td>2020-01-23</td>\n",
       "      <td>-0.04149</td>\n",
       "      <td>-0.02496</td>\n",
       "      <td>-0.01293</td>\n",
       "      <td>-0.00568</td>\n",
       "      <td>1.00000</td>\n",
       "      <td>606.33333</td>\n",
       "    </tr>\n",
       "    <tr>\n",
       "      <th>2</th>\n",
       "      <td>2020-01-28</td>\n",
       "      <td>-0.06691</td>\n",
       "      <td>-0.07678</td>\n",
       "      <td>-0.09210</td>\n",
       "      <td>-0.03306</td>\n",
       "      <td>1.00000</td>\n",
       "      <td>349.66667</td>\n",
       "    </tr>\n",
       "  </tbody>\n",
       "</table>\n",
       "</div>"
      ],
      "text/plain": [
       "        Date     대한항공     제주항공      진에어     에어부산  num_video  \\\n",
       "0 2020-01-22  0.01339 -0.01235 -0.00328 -0.00537    1.00000   \n",
       "1 2020-01-23 -0.04149 -0.02496 -0.01293 -0.00568    1.00000   \n",
       "2 2020-01-28 -0.06691 -0.07678 -0.09210 -0.03306    1.00000   \n",
       "\n",
       "   youtube_performance  \n",
       "0            863.00000  \n",
       "1            606.33333  \n",
       "2            349.66667  "
      ]
     },
     "metadata": {},
     "output_type": "display_data"
    },
    {
     "name": "stdout",
     "output_type": "stream",
     "text": [
      "728\n"
     ]
    }
   ],
   "source": [
    "youtube_change = pd.merge(left=stock_change, right=youtube_linear, how='inner', on='Date')\n",
    "display(youtube_change.head(3))\n",
    "print(len(youtube_change))"
   ]
  },
  {
   "cell_type": "code",
   "execution_count": 113,
   "metadata": {
    "scrolled": true
   },
   "outputs": [
    {
     "data": {
      "text/html": [
       "<div>\n",
       "<style scoped>\n",
       "    .dataframe tbody tr th:only-of-type {\n",
       "        vertical-align: middle;\n",
       "    }\n",
       "\n",
       "    .dataframe tbody tr th {\n",
       "        vertical-align: top;\n",
       "    }\n",
       "\n",
       "    .dataframe thead th {\n",
       "        text-align: right;\n",
       "    }\n",
       "</style>\n",
       "<table border=\"1\" class=\"dataframe\">\n",
       "  <thead>\n",
       "    <tr style=\"text-align: right;\">\n",
       "      <th></th>\n",
       "      <th>Date</th>\n",
       "      <th>대한항공</th>\n",
       "      <th>제주항공</th>\n",
       "      <th>진에어</th>\n",
       "      <th>에어부산</th>\n",
       "      <th>num_video</th>\n",
       "      <th>youtube_performance</th>\n",
       "    </tr>\n",
       "  </thead>\n",
       "  <tbody>\n",
       "    <tr>\n",
       "      <th>0</th>\n",
       "      <td>2020-02-06</td>\n",
       "      <td>17508</td>\n",
       "      <td>17934</td>\n",
       "      <td>13116</td>\n",
       "      <td>10561</td>\n",
       "      <td>1.00000</td>\n",
       "      <td>239.00000</td>\n",
       "    </tr>\n",
       "    <tr>\n",
       "      <th>1</th>\n",
       "      <td>2020-02-07</td>\n",
       "      <td>17442</td>\n",
       "      <td>17666</td>\n",
       "      <td>13116</td>\n",
       "      <td>10481</td>\n",
       "      <td>3.00000</td>\n",
       "      <td>3841.00000</td>\n",
       "    </tr>\n",
       "    <tr>\n",
       "      <th>2</th>\n",
       "      <td>2020-02-10</td>\n",
       "      <td>17053</td>\n",
       "      <td>17743</td>\n",
       "      <td>12986</td>\n",
       "      <td>10283</td>\n",
       "      <td>5.00000</td>\n",
       "      <td>7443.00000</td>\n",
       "    </tr>\n",
       "  </tbody>\n",
       "</table>\n",
       "</div>"
      ],
      "text/plain": [
       "        Date   대한항공   제주항공    진에어   에어부산  num_video  youtube_performance\n",
       "0 2020-02-06  17508  17934  13116  10561    1.00000            239.00000\n",
       "1 2020-02-07  17442  17666  13116  10481    3.00000           3841.00000\n",
       "2 2020-02-10  17053  17743  12986  10283    5.00000           7443.00000"
      ]
     },
     "metadata": {},
     "output_type": "display_data"
    },
    {
     "name": "stdout",
     "output_type": "stream",
     "text": [
      "719\n"
     ]
    }
   ],
   "source": [
    "youtube_close = pd.merge(left=stock_close, right=youtube_linear, how='inner', on='Date')\n",
    "display(youtube_close.head(3))\n",
    "print(len(youtube_close))"
   ]
  },
  {
   "cell_type": "code",
   "execution_count": 114,
   "metadata": {},
   "outputs": [
    {
     "data": {
      "text/html": [
       "<div>\n",
       "<style scoped>\n",
       "    .dataframe tbody tr th:only-of-type {\n",
       "        vertical-align: middle;\n",
       "    }\n",
       "\n",
       "    .dataframe tbody tr th {\n",
       "        vertical-align: top;\n",
       "    }\n",
       "\n",
       "    .dataframe thead th {\n",
       "        text-align: right;\n",
       "    }\n",
       "</style>\n",
       "<table border=\"1\" class=\"dataframe\">\n",
       "  <thead>\n",
       "    <tr style=\"text-align: right;\">\n",
       "      <th></th>\n",
       "      <th>Date</th>\n",
       "      <th>대한항공</th>\n",
       "      <th>제주항공</th>\n",
       "      <th>진에어</th>\n",
       "      <th>에어부산</th>\n",
       "      <th>num_video</th>\n",
       "      <th>youtube_performance</th>\n",
       "    </tr>\n",
       "  </thead>\n",
       "  <tbody>\n",
       "    <tr>\n",
       "      <th>0</th>\n",
       "      <td>2020-02-06</td>\n",
       "      <td>1240187</td>\n",
       "      <td>107302</td>\n",
       "      <td>91872</td>\n",
       "      <td>100884</td>\n",
       "      <td>1.00000</td>\n",
       "      <td>239.00000</td>\n",
       "    </tr>\n",
       "    <tr>\n",
       "      <th>1</th>\n",
       "      <td>2020-02-07</td>\n",
       "      <td>796200</td>\n",
       "      <td>71077</td>\n",
       "      <td>74477</td>\n",
       "      <td>103753</td>\n",
       "      <td>3.00000</td>\n",
       "      <td>3841.00000</td>\n",
       "    </tr>\n",
       "    <tr>\n",
       "      <th>2</th>\n",
       "      <td>2020-02-10</td>\n",
       "      <td>754365</td>\n",
       "      <td>66307</td>\n",
       "      <td>136370</td>\n",
       "      <td>75107</td>\n",
       "      <td>5.00000</td>\n",
       "      <td>7443.00000</td>\n",
       "    </tr>\n",
       "  </tbody>\n",
       "</table>\n",
       "</div>"
      ],
      "text/plain": [
       "        Date     대한항공    제주항공     진에어    에어부산  num_video  youtube_performance\n",
       "0 2020-02-06  1240187  107302   91872  100884    1.00000            239.00000\n",
       "1 2020-02-07   796200   71077   74477  103753    3.00000           3841.00000\n",
       "2 2020-02-10   754365   66307  136370   75107    5.00000           7443.00000"
      ]
     },
     "metadata": {},
     "output_type": "display_data"
    },
    {
     "name": "stdout",
     "output_type": "stream",
     "text": [
      "719\n"
     ]
    }
   ],
   "source": [
    "youtube_volume = pd.merge(left=stock_volume, right=youtube_linear, how='inner', on='Date')\n",
    "display(youtube_volume.head(3))\n",
    "print(len(youtube_volume))"
   ]
  },
  {
   "cell_type": "markdown",
   "metadata": {},
   "source": [
    "### 상관성 분석"
   ]
  },
  {
   "cell_type": "code",
   "execution_count": 115,
   "metadata": {
    "scrolled": false
   },
   "outputs": [
    {
     "data": {
      "text/html": [
       "<div>\n",
       "<style scoped>\n",
       "    .dataframe tbody tr th:only-of-type {\n",
       "        vertical-align: middle;\n",
       "    }\n",
       "\n",
       "    .dataframe tbody tr th {\n",
       "        vertical-align: top;\n",
       "    }\n",
       "\n",
       "    .dataframe thead th {\n",
       "        text-align: right;\n",
       "    }\n",
       "</style>\n",
       "<table border=\"1\" class=\"dataframe\">\n",
       "  <thead>\n",
       "    <tr style=\"text-align: right;\">\n",
       "      <th></th>\n",
       "      <th>대한항공</th>\n",
       "      <th>제주항공</th>\n",
       "      <th>진에어</th>\n",
       "      <th>에어부산</th>\n",
       "    </tr>\n",
       "  </thead>\n",
       "  <tbody>\n",
       "    <tr>\n",
       "      <th>대한항공</th>\n",
       "      <td>1.00000</td>\n",
       "      <td>0.69274</td>\n",
       "      <td>0.70092</td>\n",
       "      <td>0.60049</td>\n",
       "    </tr>\n",
       "    <tr>\n",
       "      <th>제주항공</th>\n",
       "      <td>0.69274</td>\n",
       "      <td>1.00000</td>\n",
       "      <td>0.76806</td>\n",
       "      <td>0.53336</td>\n",
       "    </tr>\n",
       "    <tr>\n",
       "      <th>진에어</th>\n",
       "      <td>0.70092</td>\n",
       "      <td>0.76806</td>\n",
       "      <td>1.00000</td>\n",
       "      <td>0.53282</td>\n",
       "    </tr>\n",
       "    <tr>\n",
       "      <th>에어부산</th>\n",
       "      <td>0.60049</td>\n",
       "      <td>0.53336</td>\n",
       "      <td>0.53282</td>\n",
       "      <td>1.00000</td>\n",
       "    </tr>\n",
       "  </tbody>\n",
       "</table>\n",
       "</div>"
      ],
      "text/plain": [
       "        대한항공    제주항공     진에어    에어부산\n",
       "대한항공 1.00000 0.69274 0.70092 0.60049\n",
       "제주항공 0.69274 1.00000 0.76806 0.53336\n",
       "진에어  0.70092 0.76806 1.00000 0.53282\n",
       "에어부산 0.60049 0.53336 0.53282 1.00000"
      ]
     },
     "metadata": {},
     "output_type": "display_data"
    },
    {
     "data": {
      "text/html": [
       "<div>\n",
       "<style scoped>\n",
       "    .dataframe tbody tr th:only-of-type {\n",
       "        vertical-align: middle;\n",
       "    }\n",
       "\n",
       "    .dataframe tbody tr th {\n",
       "        vertical-align: top;\n",
       "    }\n",
       "\n",
       "    .dataframe thead th {\n",
       "        text-align: right;\n",
       "    }\n",
       "</style>\n",
       "<table border=\"1\" class=\"dataframe\">\n",
       "  <thead>\n",
       "    <tr style=\"text-align: right;\">\n",
       "      <th></th>\n",
       "      <th>대한항공</th>\n",
       "      <th>제주항공</th>\n",
       "      <th>진에어</th>\n",
       "      <th>에어부산</th>\n",
       "    </tr>\n",
       "  </thead>\n",
       "  <tbody>\n",
       "    <tr>\n",
       "      <th>대한항공</th>\n",
       "      <td>1.00000</td>\n",
       "      <td>0.68676</td>\n",
       "      <td>0.93575</td>\n",
       "      <td>-0.20286</td>\n",
       "    </tr>\n",
       "    <tr>\n",
       "      <th>제주항공</th>\n",
       "      <td>0.68676</td>\n",
       "      <td>1.00000</td>\n",
       "      <td>0.81197</td>\n",
       "      <td>0.41870</td>\n",
       "    </tr>\n",
       "    <tr>\n",
       "      <th>진에어</th>\n",
       "      <td>0.93575</td>\n",
       "      <td>0.81197</td>\n",
       "      <td>1.00000</td>\n",
       "      <td>-0.04466</td>\n",
       "    </tr>\n",
       "    <tr>\n",
       "      <th>에어부산</th>\n",
       "      <td>-0.20286</td>\n",
       "      <td>0.41870</td>\n",
       "      <td>-0.04466</td>\n",
       "      <td>1.00000</td>\n",
       "    </tr>\n",
       "  </tbody>\n",
       "</table>\n",
       "</div>"
      ],
      "text/plain": [
       "         대한항공    제주항공      진에어     에어부산\n",
       "대한항공  1.00000 0.68676  0.93575 -0.20286\n",
       "제주항공  0.68676 1.00000  0.81197  0.41870\n",
       "진에어   0.93575 0.81197  1.00000 -0.04466\n",
       "에어부산 -0.20286 0.41870 -0.04466  1.00000"
      ]
     },
     "metadata": {},
     "output_type": "display_data"
    },
    {
     "data": {
      "text/html": [
       "<div>\n",
       "<style scoped>\n",
       "    .dataframe tbody tr th:only-of-type {\n",
       "        vertical-align: middle;\n",
       "    }\n",
       "\n",
       "    .dataframe tbody tr th {\n",
       "        vertical-align: top;\n",
       "    }\n",
       "\n",
       "    .dataframe thead th {\n",
       "        text-align: right;\n",
       "    }\n",
       "</style>\n",
       "<table border=\"1\" class=\"dataframe\">\n",
       "  <thead>\n",
       "    <tr style=\"text-align: right;\">\n",
       "      <th></th>\n",
       "      <th>대한항공</th>\n",
       "      <th>제주항공</th>\n",
       "      <th>진에어</th>\n",
       "      <th>에어부산</th>\n",
       "    </tr>\n",
       "  </thead>\n",
       "  <tbody>\n",
       "    <tr>\n",
       "      <th>대한항공</th>\n",
       "      <td>1.00000</td>\n",
       "      <td>0.52857</td>\n",
       "      <td>0.32199</td>\n",
       "      <td>0.50421</td>\n",
       "    </tr>\n",
       "    <tr>\n",
       "      <th>제주항공</th>\n",
       "      <td>0.52857</td>\n",
       "      <td>1.00000</td>\n",
       "      <td>0.26057</td>\n",
       "      <td>0.34139</td>\n",
       "    </tr>\n",
       "    <tr>\n",
       "      <th>진에어</th>\n",
       "      <td>0.32199</td>\n",
       "      <td>0.26057</td>\n",
       "      <td>1.00000</td>\n",
       "      <td>0.16720</td>\n",
       "    </tr>\n",
       "    <tr>\n",
       "      <th>에어부산</th>\n",
       "      <td>0.50421</td>\n",
       "      <td>0.34139</td>\n",
       "      <td>0.16720</td>\n",
       "      <td>1.00000</td>\n",
       "    </tr>\n",
       "  </tbody>\n",
       "</table>\n",
       "</div>"
      ],
      "text/plain": [
       "        대한항공    제주항공     진에어    에어부산\n",
       "대한항공 1.00000 0.52857 0.32199 0.50421\n",
       "제주항공 0.52857 1.00000 0.26057 0.34139\n",
       "진에어  0.32199 0.26057 1.00000 0.16720\n",
       "에어부산 0.50421 0.34139 0.16720 1.00000"
      ]
     },
     "metadata": {},
     "output_type": "display_data"
    }
   ],
   "source": [
    "display(stock_change.corr())\n",
    "display(stock_close.corr())\n",
    "display(stock_volume.corr())"
   ]
  },
  {
   "cell_type": "markdown",
   "metadata": {},
   "source": [
    "**유튜브-등락률 상관관계**"
   ]
  },
  {
   "cell_type": "code",
   "execution_count": 119,
   "metadata": {
    "scrolled": false
   },
   "outputs": [
    {
     "data": {
      "image/png": "[encoded data removed]",
      "text/plain": [
       "<Figure size 576x576 with 2 Axes>"
      ]
     },
     "metadata": {
      "needs_background": "light"
     },
     "output_type": "display_data"
    }
   ],
   "source": [
    "change_corr = youtube_change.corr()\n",
    "# 그림 사이즈 지정\n",
    "fig, ax = plt.subplots(figsize=(8,8))\n",
    "\n",
    "# 히트맵을 그린다\n",
    "sns.heatmap(change_corr, \n",
    "            cmap = 'RdYlBu_r', \n",
    "            annot = True,   # 실제 값을 표시한다\n",
    "            linewidths=.5,  # 경계면 실선으로 구분하기\n",
    "            cbar_kws={\"shrink\": .5},# 컬러바 크기 절반으로 줄이기\n",
    "            vmin = -1,vmax = 1   # 컬러바 범위 -1 ~ 1\n",
    "           )  \n",
    "plt.show()"
   ]
  },
  {
   "cell_type": "markdown",
   "metadata": {},
   "source": [
    "**등락률의 경우 네 종목 모두 큰 상관관계가 없음**"
   ]
  },
  {
   "cell_type": "markdown",
   "metadata": {},
   "source": [
    "**유튜브-종가 상관관계**"
   ]
  },
  {
   "cell_type": "code",
   "execution_count": 117,
   "metadata": {
    "scrolled": false
   },
   "outputs": [
    {
     "data": {
      "image/png": "[encoded data removed]",
      "text/plain": [
       "<Figure size 576x576 with 2 Axes>"
      ]
     },
     "metadata": {
      "needs_background": "light"
     },
     "output_type": "display_data"
    }
   ],
   "source": [
    "close_corr = youtube_close.corr()\n",
    "# 그림 사이즈 지정\n",
    "fig, ax = plt.subplots( figsize=(8,8) )\n",
    "\n",
    "# 히트맵을 그린다\n",
    "sns.heatmap(close_corr, \n",
    "            cmap = 'RdYlBu_r', \n",
    "            annot = True,   # 실제 값을 표시한다\n",
    "            linewidths=.5,  # 경계면 실선으로 구분하기\n",
    "            cbar_kws={\"shrink\": .5},# 컬러바 크기 절반으로 줄이기\n",
    "            vmin = -1,vmax = 1   # 컬러바 범위 -1 ~ 1\n",
    "           )  \n",
    "plt.show()"
   ]
  },
  {
   "cell_type": "markdown",
   "metadata": {},
   "source": [
    "**종가의 경우 대한항공, 제주항공, 진에어의 경우 유튜브 반응과 약간의 음의 상관관계가 있지만 그 정도가 크지 않음**"
   ]
  },
  {
   "cell_type": "markdown",
   "metadata": {},
   "source": [
    "#### 유튜브-거래량 상관관계"
   ]
  },
  {
   "cell_type": "code",
   "execution_count": 118,
   "metadata": {
    "scrolled": false
   },
   "outputs": [
    {
     "data": {
      "image/png": "[encoded data removed]",
      "text/plain": [
       "<Figure size 576x576 with 2 Axes>"
      ]
     },
     "metadata": {
      "needs_background": "light"
     },
     "output_type": "display_data"
    }
   ],
   "source": [
    "volume_corr = youtube_volume.corr()\n",
    "# 그림 사이즈 지정\n",
    "fig, ax = plt.subplots( figsize=(8,8) )\n",
    "\n",
    "# 히트맵을 그린다\n",
    "sns.heatmap(volume_corr, \n",
    "            cmap = 'RdYlBu_r', \n",
    "            annot = True,   # 실제 값을 표시한다\n",
    "            linewidths=.5,  # 경계면 실선으로 구분하기\n",
    "            cbar_kws={\"shrink\": .5},# 컬러바 크기 절반으로 줄이기\n",
    "            vmin = -1,vmax = 1   # 컬러바 범위 -1 ~ 1\n",
    "           )  \n",
    "plt.show()"
   ]
  },
  {
   "cell_type": "markdown",
   "metadata": {},
   "source": [
    "**거래량의 경우 진에어만 유튜브 영상개수와 약간의 상관관계가 있음**"
   ]
  }
 ],
 "metadata": {
  "kernelspec": {
   "display_name": "Python 3",
   "language": "python",
   "name": "python3"
  },
  "language_info": {
   "codemirror_mode": {
    "name": "ipython",
    "version": 3
   },
   "file_extension": ".py",
   "mimetype": "text/x-python",
   "name": "python",
   "nbconvert_exporter": "python",
   "pygments_lexer": "ipython3",
   "version": "3.8.5"
  }
 },
 "nbformat": 4,
 "nbformat_minor": 4
}
